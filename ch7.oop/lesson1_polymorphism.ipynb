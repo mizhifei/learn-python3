{
 "cells": [
  {
   "cell_type": "code",
   "execution_count": 1,
   "metadata": {},
   "outputs": [
    {
     "name": "stdout",
     "output_type": "stream",
     "text": [
      "2\n",
      "1\n"
     ]
    }
   ],
   "source": [
    "# sequences all have count method\n",
    "print('abab'.count(\"a\"))\n",
    "print((\"a\", \"b\").count(\"a\"))"
   ]
  },
  {
   "cell_type": "code",
   "execution_count": 2,
   "metadata": {},
   "outputs": [
    {
     "name": "stdout",
     "output_type": "stream",
     "text": [
      "('a', 'b')\n",
      "('a', 'b')\n",
      "5\n"
     ]
    }
   ],
   "source": [
    "# choice(), random choose element from sequence\n",
    "from random import choice\n",
    "\n",
    "# elements in list\n",
    "option = [(\"a\", \"b\"), (1, 2)]\n",
    "c = choice(option)\n",
    "print(c)\n",
    "\n",
    "# elements in tuple\n",
    "option = ((\"a\", \"b\"), (1, 2))\n",
    "c = choice(option)\n",
    "print(c)\n",
    "\n",
    "# chars in string\n",
    "option = '123456'\n",
    "c = choice(option)\n",
    "print(c)\n"
   ]
  },
  {
   "cell_type": "code",
   "execution_count": 3,
   "metadata": {},
   "outputs": [
    {
     "name": "stdout",
     "output_type": "stream",
     "text": [
      "1\n"
     ]
    }
   ],
   "source": [
    "\n",
    "option = [(\"a\", \"b\"), 'abab']\n",
    "c = choice(option)\n",
    "print(c.count('a'))"
   ]
  },
  {
   "cell_type": "code",
   "execution_count": 4,
   "metadata": {},
   "outputs": [
    {
     "name": "stdout",
     "output_type": "stream",
     "text": [
      "3\n",
      "ab\n"
     ]
    }
   ],
   "source": [
    "# plus\n",
    "\n",
    "# number\n",
    "print(1 + 2)\n",
    "\n",
    "# string\n",
    "print('a' + 'b')\n"
   ]
  },
  {
   "cell_type": "code",
   "execution_count": 5,
   "metadata": {},
   "outputs": [
    {
     "name": "stdout",
     "output_type": "stream",
     "text": [
      "3\n",
      "ab\n"
     ]
    }
   ],
   "source": [
    "def plus(p1, p2):\n",
    "    return p1 + p2\n",
    "\n",
    "print(plus(1, 2))\n",
    "\n",
    "print(plus('a' , 'b'))"
   ]
  },
  {
   "cell_type": "code",
   "execution_count": 7,
   "metadata": {},
   "outputs": [
    {
     "name": "stdout",
     "output_type": "stream",
     "text": [
      "The length of 'Foo' is 3\n",
      "The length of [1, 2, 3] is 3\n"
     ]
    }
   ],
   "source": [
    "def length_info(x):\n",
    "    print(\"The length of\", repr(x), \"is\", len(x))\n",
    "\n",
    "\n",
    "length_info(\"Foo\")\n",
    "length_info([1, 2, 3])\n"
   ]
  }
 ],
 "metadata": {
  "kernelspec": {
   "display_name": "base",
   "language": "python",
   "name": "python3"
  },
  "language_info": {
   "codemirror_mode": {
    "name": "ipython",
    "version": 3
   },
   "file_extension": ".py",
   "mimetype": "text/x-python",
   "name": "python",
   "nbconvert_exporter": "python",
   "pygments_lexer": "ipython3",
   "version": "3.10.6"
  },
  "orig_nbformat": 4,
  "vscode": {
   "interpreter": {
    "hash": "c6e4e9f98eb68ad3b7c296f83d20e6de614cb42e90992a65aa266555a3137d0d"
   }
  }
 },
 "nbformat": 4,
 "nbformat_minor": 2
}
