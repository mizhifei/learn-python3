{
 "cells": [
  {
   "cell_type": "code",
   "execution_count": 2,
   "metadata": {},
   "outputs": [
    {
     "name": "stdout",
     "output_type": "stream",
     "text": [
      "('Tom', 'Bob', 'Andy')\n",
      "True\n"
     ]
    },
    {
     "ename": "TypeError",
     "evalue": "'tuple' object does not support item assignment",
     "output_type": "error",
     "traceback": [
      "\u001b[0;31m---------------------------------------------------------------------------\u001b[0m",
      "\u001b[0;31mTypeError\u001b[0m                                 Traceback (most recent call last)",
      "Cell \u001b[0;32mIn[2], line 6\u001b[0m\n\u001b[1;32m      4\u001b[0m t \u001b[39m=\u001b[39m (\u001b[39m'\u001b[39m\u001b[39mTom\u001b[39m\u001b[39m'\u001b[39m, \u001b[39m'\u001b[39m\u001b[39mBob\u001b[39m\u001b[39m'\u001b[39m, \u001b[39m'\u001b[39m\u001b[39mAndy\u001b[39m\u001b[39m'\u001b[39m)\n\u001b[1;32m      5\u001b[0m \u001b[39mprint\u001b[39m(t \u001b[39m==\u001b[39m classmates)\n\u001b[0;32m----> 6\u001b[0m classmates[\u001b[39m1\u001b[39;49m] \u001b[39m=\u001b[39m \u001b[39m'\u001b[39m\u001b[39m123\u001b[39m\u001b[39m'\u001b[39m\n",
      "\u001b[0;31mTypeError\u001b[0m: 'tuple' object does not support item assignment"
     ]
    }
   ],
   "source": [
    "# use tuple\n",
    "classmates = 'Tom', 'Bob', 'Andy'\n",
    "print(classmates)\n",
    "t = ('Tom', 'Bob', 'Andy')\n",
    "print(t == classmates)\n",
    "# tuple like list, but can't be changed\n",
    "classmates[1] = '123'"
   ]
  },
  {
   "cell_type": "code",
   "execution_count": 8,
   "metadata": {},
   "outputs": [
    {
     "name": "stdout",
     "output_type": "stream",
     "text": [
      "2\n",
      "True\n",
      "a\n",
      "(2,)\n",
      "(True,)\n",
      "('a',)\n"
     ]
    }
   ],
   "source": [
    "# (value) will became a result of single value, so you must use (value,) to define a tuple contain single value\n",
    "t = (2)\n",
    "print(t)\n",
    "t = (True)\n",
    "print(t)\n",
    "t = ('a')\n",
    "print(t)\n",
    "t = (2,)\n",
    "print(t)\n",
    "t = (True,)\n",
    "print(t)\n",
    "t = ('a',)\n",
    "print(t)"
   ]
  },
  {
   "cell_type": "code",
   "execution_count": 10,
   "metadata": {},
   "outputs": [
    {
     "name": "stdout",
     "output_type": "stream",
     "text": [
      "('a', 'b', ['X', 'Y'])\n"
     ]
    },
    {
     "ename": "TypeError",
     "evalue": "'tuple' object does not support item assignment",
     "output_type": "error",
     "traceback": [
      "\u001b[0;31m---------------------------------------------------------------------------\u001b[0m",
      "\u001b[0;31mTypeError\u001b[0m                                 Traceback (most recent call last)",
      "Cell \u001b[0;32mIn[10], line 8\u001b[0m\n\u001b[1;32m      6\u001b[0m t[\u001b[39m2\u001b[39m][\u001b[39m1\u001b[39m] \u001b[39m=\u001b[39m \u001b[39m'\u001b[39m\u001b[39mY\u001b[39m\u001b[39m'\u001b[39m\n\u001b[1;32m      7\u001b[0m \u001b[39mprint\u001b[39m(t)\n\u001b[0;32m----> 8\u001b[0m t[\u001b[39m2\u001b[39;49m] \u001b[39m=\u001b[39m [\u001b[39m123\u001b[39m]\n\u001b[1;32m      9\u001b[0m \u001b[39m# 这个tuple定义的时候有3个元素，分别是'a'，'b'和一个list。不是说tuple一旦定义后就不可变了吗？怎么后来又变了？\u001b[39;00m\n\u001b[1;32m     10\u001b[0m \u001b[39m# 原因是t[2]的引用是不可变，但引用的对象的属性可以变（除非引用对象也是不可变的tuple）\u001b[39;00m\n",
      "\u001b[0;31mTypeError\u001b[0m: 'tuple' object does not support item assignment"
     ]
    }
   ],
   "source": [
    "# if tuple contains reference variable elements, these elements of the reference variables can be change, but the variables element in tuple, \n",
    "# their reference can't be changed. \n",
    "li = ['A', 'B']\n",
    "t = ('a', 'b', li)\n",
    "li[0] = 'X'\n",
    "t[2][1] = 'Y'\n",
    "print(t)\n",
    "t[2] = [123]\n"
   ]
  }
 ],
 "metadata": {
  "kernelspec": {
   "display_name": "Python 3.10.6 ('base')",
   "language": "python",
   "name": "python3"
  },
  "language_info": {
   "codemirror_mode": {
    "name": "ipython",
    "version": 3
   },
   "file_extension": ".py",
   "mimetype": "text/x-python",
   "name": "python",
   "nbconvert_exporter": "python",
   "pygments_lexer": "ipython3",
   "version": "3.10.6"
  },
  "orig_nbformat": 4,
  "vscode": {
   "interpreter": {
    "hash": "c6e4e9f98eb68ad3b7c296f83d20e6de614cb42e90992a65aa266555a3137d0d"
   }
  }
 },
 "nbformat": 4,
 "nbformat_minor": 2
}
