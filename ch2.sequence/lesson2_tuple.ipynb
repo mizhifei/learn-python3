{
 "cells": [
  {
   "cell_type": "code",
   "execution_count": 2,
   "metadata": {},
   "outputs": [
    {
     "name": "stdout",
     "output_type": "stream",
     "text": [
      "('Tom', 'Bob', 'Andy')\n",
      "True\n"
     ]
    },
    {
     "ename": "TypeError",
     "evalue": "'tuple' object does not support item assignment",
     "output_type": "error",
     "traceback": [
      "\u001b[0;31m---------------------------------------------------------------------------\u001b[0m",
      "\u001b[0;31mTypeError\u001b[0m                                 Traceback (most recent call last)",
      "Cell \u001b[0;32mIn[2], line 6\u001b[0m\n\u001b[1;32m      4\u001b[0m t \u001b[39m=\u001b[39m (\u001b[39m'\u001b[39m\u001b[39mTom\u001b[39m\u001b[39m'\u001b[39m, \u001b[39m'\u001b[39m\u001b[39mBob\u001b[39m\u001b[39m'\u001b[39m, \u001b[39m'\u001b[39m\u001b[39mAndy\u001b[39m\u001b[39m'\u001b[39m)\n\u001b[1;32m      5\u001b[0m \u001b[39mprint\u001b[39m(t \u001b[39m==\u001b[39m classmates)\n\u001b[0;32m----> 6\u001b[0m classmates[\u001b[39m1\u001b[39;49m] \u001b[39m=\u001b[39m \u001b[39m'\u001b[39m\u001b[39m123\u001b[39m\u001b[39m'\u001b[39m\n",
      "\u001b[0;31mTypeError\u001b[0m: 'tuple' object does not support item assignment"
     ]
    }
   ],
   "source": [
    "# use tuple\n",
    "classmates = 'Tom', 'Bob', 'Andy'\n",
    "print(classmates)\n",
    "t = ('Tom', 'Bob', 'Andy')\n",
    "print(t == classmates)\n",
    "# tuple like list, but can't be changed\n",
    "classmates[1] = '123'"
   ]
  },
  {
   "cell_type": "code",
   "execution_count": 3,
   "metadata": {},
   "outputs": [
    {
     "name": "stdout",
     "output_type": "stream",
     "text": [
      "()\n"
     ]
    }
   ],
   "source": [
    "# empty tuple\n",
    "t = ()\n",
    "print(t)"
   ]
  },
  {
   "cell_type": "code",
   "execution_count": 5,
   "metadata": {},
   "outputs": [
    {
     "name": "stdout",
     "output_type": "stream",
     "text": [
      "2\n",
      "a\n",
      "(2,)\n",
      "('a',)\n",
      "(2,)\n",
      "('a',)\n"
     ]
    }
   ],
   "source": [
    "# (value) will became a result of single value, so you must use (value,) or value, to define a tuple contain single value\n",
    "t = (2)\n",
    "print(t)\n",
    "t = ('a')\n",
    "print(t)\n",
    "\n",
    "t = (2,)\n",
    "print(t)\n",
    "t = ('a',)\n",
    "print(t)\n",
    "\n",
    "t = 2,\n",
    "print(t)\n",
    "t = 'a',\n",
    "print(t)"
   ]
  },
  {
   "cell_type": "code",
   "execution_count": 7,
   "metadata": {},
   "outputs": [
    {
     "name": "stdout",
     "output_type": "stream",
     "text": [
      "9\n",
      "(3, 3, 3)\n"
     ]
    }
   ],
   "source": [
    "print(3 * (1 + 2))\n",
    "print(3 * (1 + 2,))"
   ]
  },
  {
   "cell_type": "code",
   "execution_count": 8,
   "metadata": {},
   "outputs": [
    {
     "name": "stdout",
     "output_type": "stream",
     "text": [
      "(1, 2, 3)\n",
      "('a', 'b', 'c')\n",
      "(1, 2, 3)\n"
     ]
    }
   ],
   "source": [
    "# tuple()\n",
    "print(tuple([1, 2, 3]))\n",
    "print(tuple(\"abc\"))\n",
    "print(tuple((1, 2, 3)))\n"
   ]
  },
  {
   "cell_type": "code",
   "execution_count": 9,
   "metadata": {},
   "outputs": [
    {
     "name": "stdout",
     "output_type": "stream",
     "text": [
      "3\n"
     ]
    }
   ],
   "source": [
    "t = (1, 2, 3)\n",
    "print(t[2])"
   ]
  },
  {
   "cell_type": "code",
   "execution_count": 10,
   "metadata": {},
   "outputs": [
    {
     "name": "stdout",
     "output_type": "stream",
     "text": [
      "(3, 4)\n"
     ]
    }
   ],
   "source": [
    "# slice\n",
    "t = (1, 2, 3, 4, 5)\n",
    "print(t[2:4])"
   ]
  },
  {
   "cell_type": "code",
   "execution_count": 11,
   "metadata": {},
   "outputs": [
    {
     "name": "stdout",
     "output_type": "stream",
     "text": [
      "('a', 'b', ['X', 'Y'])\n"
     ]
    },
    {
     "ename": "TypeError",
     "evalue": "'tuple' object does not support item assignment",
     "output_type": "error",
     "traceback": [
      "\u001b[0;31m---------------------------------------------------------------------------\u001b[0m",
      "\u001b[0;31mTypeError\u001b[0m                                 Traceback (most recent call last)",
      "Cell \u001b[0;32mIn[11], line 8\u001b[0m\n\u001b[1;32m      6\u001b[0m t[\u001b[39m2\u001b[39m][\u001b[39m1\u001b[39m] \u001b[39m=\u001b[39m \u001b[39m'\u001b[39m\u001b[39mY\u001b[39m\u001b[39m'\u001b[39m\n\u001b[1;32m      7\u001b[0m \u001b[39mprint\u001b[39m(t)\n\u001b[0;32m----> 8\u001b[0m t[\u001b[39m2\u001b[39;49m] \u001b[39m=\u001b[39m [\u001b[39m123\u001b[39m]\n",
      "\u001b[0;31mTypeError\u001b[0m: 'tuple' object does not support item assignment"
     ]
    }
   ],
   "source": [
    "# if tuple contains reference variable elements, these elements of the reference variables can be change, but the variables element in tuple, \n",
    "# their reference can't be changed. \n",
    "li = ['A', 'B']\n",
    "t = ('a', 'b', li)\n",
    "li[0] = 'X'\n",
    "t[2][1] = 'Y'\n",
    "print(t)\n",
    "t[2] = [123]\n"
   ]
  },
  {
   "cell_type": "code",
   "execution_count": 12,
   "metadata": {},
   "outputs": [
    {
     "ename": "TypeError",
     "evalue": "'tuple' object does not support item assignment",
     "output_type": "error",
     "traceback": [
      "\u001b[0;31m---------------------------------------------------------------------------\u001b[0m",
      "\u001b[0;31mTypeError\u001b[0m                                 Traceback (most recent call last)",
      "Cell \u001b[0;32mIn[12], line 4\u001b[0m\n\u001b[1;32m      2\u001b[0m nl \u001b[39m=\u001b[39m (\u001b[39m1\u001b[39m, \u001b[39m5\u001b[39m)\n\u001b[1;32m      3\u001b[0m ll \u001b[39m=\u001b[39m (\u001b[39m2\u001b[39m, \u001b[39m3\u001b[39m, \u001b[39m4\u001b[39m)\n\u001b[0;32m----> 4\u001b[0m nl[\u001b[39m1\u001b[39;49m:\u001b[39m1\u001b[39;49m] \u001b[39m=\u001b[39m ll\n\u001b[1;32m      5\u001b[0m \u001b[39mprint\u001b[39m(nl)\n",
      "\u001b[0;31mTypeError\u001b[0m: 'tuple' object does not support item assignment"
     ]
    }
   ],
   "source": [
    "# tuple is immutable, you can't use slice assignment to change it\n",
    "nl = (1, 5)\n",
    "ll = (2, 3, 4)\n",
    "nl[1:1] = ll\n",
    "print(nl)"
   ]
  },
  {
   "cell_type": "code",
   "execution_count": 13,
   "metadata": {},
   "outputs": [
    {
     "ename": "TypeError",
     "evalue": "'tuple' object does not support item assignment",
     "output_type": "error",
     "traceback": [
      "\u001b[0;31m---------------------------------------------------------------------------\u001b[0m",
      "\u001b[0;31mTypeError\u001b[0m                                 Traceback (most recent call last)",
      "Cell \u001b[0;32mIn[13], line 4\u001b[0m\n\u001b[1;32m      2\u001b[0m sa \u001b[39m=\u001b[39m \u001b[39m'\u001b[39m\u001b[39mHello World!\u001b[39m\u001b[39m'\u001b[39m\n\u001b[1;32m      3\u001b[0m lan \u001b[39m=\u001b[39m \u001b[39m'\u001b[39m\u001b[39mPython\u001b[39m\u001b[39m'\u001b[39m\n\u001b[0;32m----> 4\u001b[0m nl[\u001b[39m6\u001b[39;49m:] \u001b[39m=\u001b[39m lan\n\u001b[1;32m      5\u001b[0m \u001b[39mprint\u001b[39m(sa)\n",
      "\u001b[0;31mTypeError\u001b[0m: 'tuple' object does not support item assignment"
     ]
    }
   ],
   "source": [
    "# string as the same as tuple is immutable, you can't use slice assignment to change it\n",
    "sa = 'Hello World!'\n",
    "lan = 'Python'\n",
    "nl[6:] = lan\n",
    "print(sa)"
   ]
  }
 ],
 "metadata": {
  "kernelspec": {
   "display_name": "Python 3.10.6 ('base')",
   "language": "python",
   "name": "python3"
  },
  "language_info": {
   "codemirror_mode": {
    "name": "ipython",
    "version": 3
   },
   "file_extension": ".py",
   "mimetype": "text/x-python",
   "name": "python",
   "nbconvert_exporter": "python",
   "pygments_lexer": "ipython3",
   "version": "3.10.6"
  },
  "orig_nbformat": 4,
  "vscode": {
   "interpreter": {
    "hash": "c6e4e9f98eb68ad3b7c296f83d20e6de614cb42e90992a65aa266555a3137d0d"
   }
  }
 },
 "nbformat": 4,
 "nbformat_minor": 2
}
