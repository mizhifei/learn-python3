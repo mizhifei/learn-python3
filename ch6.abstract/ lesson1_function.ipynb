{
 "cells": [
  {
   "cell_type": "code",
   "execution_count": 1,
   "metadata": {},
   "outputs": [
    {
     "name": "stdout",
     "output_type": "stream",
     "text": [
      "True\n"
     ]
    }
   ],
   "source": [
    "# callable\n",
    "print(callable(pow))"
   ]
  },
  {
   "cell_type": "code",
   "execution_count": 3,
   "metadata": {},
   "outputs": [
    {
     "name": "stdout",
     "output_type": "stream",
     "text": [
      "Help on function square in module __main__:\n",
      "\n",
      "square(x) -> float\n",
      "    Calculates  the square of the number x.\n",
      "\n",
      "49\n"
     ]
    }
   ],
   "source": [
    "# function doc string\n",
    "def square(x) -> float:\n",
    "    'Calculates  the square of the number x.'\n",
    "    return x ** 2\n",
    "help(square)\n",
    "print(square(7))"
   ]
  },
  {
   "cell_type": "code",
   "execution_count": 4,
   "metadata": {},
   "outputs": [
    {
     "name": "stdout",
     "output_type": "stream",
     "text": [
      "Java\n"
     ]
    }
   ],
   "source": [
    "# change values in function\n",
    "def change(n):\n",
    "    n = \"Python!\"\n",
    "n = 'Java'\n",
    "change(n)\n",
    "print(n)"
   ]
  },
  {
   "cell_type": "code",
   "execution_count": 5,
   "metadata": {},
   "outputs": [
    {
     "name": "stdout",
     "output_type": "stream",
     "text": [
      "['Python!']\n"
     ]
    }
   ],
   "source": [
    "def change(n):\n",
    "    n[0] = \"Python!\"\n",
    "n = ['Java']\n",
    "change(n)\n",
    "print(n)"
   ]
  },
  {
   "cell_type": "code",
   "execution_count": 10,
   "metadata": {},
   "outputs": [
    {
     "name": "stdout",
     "output_type": "stream",
     "text": [
      "{'first': {'Magnus': ['Magnus Lie Hetland']}, 'middle': {'Lie': ['Magnus Lie Hetland']}, 'last': {'Hetland': ['Magnus Lie Hetland']}}\n",
      "{'first': {'Magnus': ['Magnus Lie Hetland'], 'Anne': ['Anne Lie Hetland']}, 'middle': {'Lie': ['Magnus Lie Hetland', 'Anne Lie Hetland']}, 'last': {'Hetland': ['Magnus Lie Hetland', 'Anne Lie Hetland']}}\n",
      "['Magnus Lie Hetland', 'Anne Lie Hetland']\n"
     ]
    }
   ],
   "source": [
    "# example\n",
    "def init(data) -> None:\n",
    "    data['first'] = {}\n",
    "    data['middle'] = {}\n",
    "    data['last'] = {}\n",
    "\n",
    "def lookup(data, label, name) -> list:\n",
    "    return data[label].get(name)\n",
    "\n",
    "def store(data, full_name) -> None:\n",
    "    names = full_name.split()\n",
    "    if len(names) == 2: names.insert(1, \"\")\n",
    "    labels = ['first', 'middle', 'last']\n",
    "    for name, label in zip(names, labels):\n",
    "        data[label].setdefault(name, []).append(full_name)\n",
    "data = {}\n",
    "init(data)\n",
    "store(data, \"Magnus Lie Hetland\")\n",
    "print(data)\n",
    "store(data, \"Anne Lie Hetland\")\n",
    "print(data)\n",
    "lies = lookup(data, 'middle', 'Lie')\n",
    "print(lies)"
   ]
  },
  {
   "cell_type": "code",
   "execution_count": 11,
   "metadata": {},
   "outputs": [
    {
     "name": "stdout",
     "output_type": "stream",
     "text": [
      "['Anne Lie Hetland']\n"
     ]
    }
   ],
   "source": [
    "print(lookup(data, label='first', name='Anne'))"
   ]
  },
  {
   "cell_type": "code",
   "execution_count": 13,
   "metadata": {},
   "outputs": [
    {
     "name": "stdout",
     "output_type": "stream",
     "text": [
      "Hello, world\n",
      "Hello, Python\n"
     ]
    }
   ],
   "source": [
    "# default parameter value\n",
    "def hello(greeting='Hello', name=\"world\"):\n",
    "    print(greeting + \", \" + name)\n",
    "hello()\n",
    "hello(name=\"Python\")"
   ]
  },
  {
   "cell_type": "code",
   "execution_count": 17,
   "metadata": {},
   "outputs": [
    {
     "name": "stdout",
     "output_type": "stream",
     "text": [
      "params:\n",
      "(1, 2, 3)\n",
      "nothing:\n",
      "()\n"
     ]
    }
   ],
   "source": [
    "# collect parameters to tuple\n",
    "def collect(title, *params):\n",
    "    print(title)\n",
    "    print(params)\n",
    "collect(\"params:\", 1,2,3)\n",
    "collect(\"nothing:\")"
   ]
  },
  {
   "cell_type": "code",
   "execution_count": 20,
   "metadata": {},
   "outputs": [
    {
     "name": "stdout",
     "output_type": "stream",
     "text": [
      "params:\n",
      "(1, 2, 3)\n",
      "4\n"
     ]
    },
    {
     "ename": "TypeError",
     "evalue": "middle() missing 1 required keyword-only argument: 'z'",
     "output_type": "error",
     "traceback": [
      "\u001b[0;31m---------------------------------------------------------------------------\u001b[0m",
      "\u001b[0;31mTypeError\u001b[0m                                 Traceback (most recent call last)",
      "Cell \u001b[0;32mIn[20], line 7\u001b[0m\n\u001b[1;32m      5\u001b[0m     \u001b[39mprint\u001b[39m(z)\n\u001b[1;32m      6\u001b[0m middle(\u001b[39m\"\u001b[39m\u001b[39mparams:\u001b[39m\u001b[39m\"\u001b[39m, \u001b[39m1\u001b[39m,\u001b[39m2\u001b[39m,\u001b[39m3\u001b[39m, z\u001b[39m=\u001b[39m\u001b[39m4\u001b[39m)\n\u001b[0;32m----> 7\u001b[0m middle(\u001b[39m\"\u001b[39;49m\u001b[39mparams:\u001b[39;49m\u001b[39m\"\u001b[39;49m, \u001b[39m1\u001b[39;49m,\u001b[39m2\u001b[39;49m,\u001b[39m3\u001b[39;49m)\n",
      "\u001b[0;31mTypeError\u001b[0m: middle() missing 1 required keyword-only argument: 'z'"
     ]
    }
   ],
   "source": [
    "# collect parameters in the middle\n",
    "def middle(x, *y, z):\n",
    "    print(x)\n",
    "    print(y)\n",
    "    print(z)\n",
    "middle(\"params:\", 1,2,3, z=4)\n",
    "middle(\"params:\", 1,2,3)"
   ]
  },
  {
   "cell_type": "code",
   "execution_count": 21,
   "metadata": {},
   "outputs": [
    {
     "ename": "TypeError",
     "evalue": "middle() got an unexpected keyword argument 'akey'",
     "output_type": "error",
     "traceback": [
      "\u001b[0;31m---------------------------------------------------------------------------\u001b[0m",
      "\u001b[0;31mTypeError\u001b[0m                                 Traceback (most recent call last)",
      "Cell \u001b[0;32mIn[21], line 1\u001b[0m\n\u001b[0;32m----> 1\u001b[0m middle(\u001b[39m\"\u001b[39;49m\u001b[39mparams\u001b[39;49m\u001b[39m\"\u001b[39;49m, \u001b[39m1\u001b[39;49m,\u001b[39m2\u001b[39;49m,\u001b[39m3\u001b[39;49m, z\u001b[39m=\u001b[39;49m\u001b[39m4\u001b[39;49m, akey\u001b[39m=\u001b[39;49m\u001b[39m123\u001b[39;49m)\n",
      "\u001b[0;31mTypeError\u001b[0m: middle() got an unexpected keyword argument 'akey'"
     ]
    }
   ],
   "source": [
    "# Do not collect key not defined\n",
    "middle(\"params\", 1,2,3, z=4, akey=123)"
   ]
  },
  {
   "cell_type": "code",
   "execution_count": 22,
   "metadata": {},
   "outputs": [
    {
     "name": "stdout",
     "output_type": "stream",
     "text": [
      "{'akey': 1, 'bkey': 2, 'ckey': 3}\n"
     ]
    }
   ],
   "source": [
    "# collect to dict\n",
    "def any_key(**params):\n",
    "    print(params)\n",
    "any_key(akey=1,bkey=2,ckey=3)"
   ]
  },
  {
   "cell_type": "code",
   "execution_count": 24,
   "metadata": {},
   "outputs": [
    {
     "name": "stdout",
     "output_type": "stream",
     "text": [
      "1 2 3\n",
      "(4, 5, 6, 7)\n",
      "{'foo': 'bar', 'fuz': 'biz'}\n"
     ]
    }
   ],
   "source": [
    "# combine\n",
    "def com(x, y, z, *params, **kwargs):\n",
    "    print(x, y, z)\n",
    "    print(params)\n",
    "    print(kwargs)\n",
    "\n",
    "\n",
    "com(1, 2, 3, 4, 5, 6, 7, foo=\"bar\", fuz=\"biz\")\n"
   ]
  },
  {
   "cell_type": "code",
   "execution_count": 25,
   "metadata": {},
   "outputs": [
    {
     "name": "stdout",
     "output_type": "stream",
     "text": [
      "{'first': {'Magnus': ['Magnus Lie Hetland'], 'Anne': ['Anne Lie Hetland']}, 'middle': {'Lie': ['Magnus Lie Hetland', 'Anne Lie Hetland']}, 'last': {'Hetland': ['Magnus Lie Hetland', 'Anne Lie Hetland']}}\n",
      "['Magnus Lie Hetland', 'Anne Lie Hetland']\n"
     ]
    }
   ],
   "source": [
    "# example\n",
    "def init(data) -> None:\n",
    "    data['first'] = {}\n",
    "    data['middle'] = {}\n",
    "    data['last'] = {}\n",
    "\n",
    "def lookup(data, label, name) -> list:\n",
    "    return data[label].get(name)\n",
    "\n",
    "def store(data, *full_names) -> None:\n",
    "    for full_name in full_names:\n",
    "        names = full_name.split()\n",
    "        if len(names) == 2: names.insert(1, \"\")\n",
    "        labels = ['first', 'middle', 'last']\n",
    "        for name, label in zip(names, labels):\n",
    "            data[label].setdefault(name, []).append(full_name)\n",
    "data = {}\n",
    "init(data)\n",
    "store(data, \"Magnus Lie Hetland\", \"Anne Lie Hetland\")\n",
    "print(data)\n",
    "lies = lookup(data, 'middle', 'Lie')\n",
    "print(lies)"
   ]
  },
  {
   "cell_type": "code",
   "execution_count": 27,
   "metadata": {},
   "outputs": [
    {
     "name": "stdout",
     "output_type": "stream",
     "text": [
      "(1, 2, 3)\n",
      "1 2 3\n"
     ]
    }
   ],
   "source": [
    "\n",
    "params = (1, 2, 3)\n",
    "print(params)\n",
    "# destruct tuple\n",
    "print(*params)\n"
   ]
  },
  {
   "cell_type": "code",
   "execution_count": 32,
   "metadata": {},
   "outputs": [
    {
     "name": "stdout",
     "output_type": "stream",
     "text": [
      "{'akey': 1, 'bkey': 2, 'ckey': 3}\n",
      "1 2 3\n"
     ]
    }
   ],
   "source": [
    "# destruct dict\n",
    "def afun(**kw):\n",
    "    print(kw['akey'], kw['bkey'], kw['ckey'])\n",
    "params = {\"akey\": 1, \"bkey\": 2, \"ckey\": 3}\n",
    "print(params)\n",
    "afun(**params)"
   ]
  },
  {
   "cell_type": "code",
   "execution_count": 33,
   "metadata": {},
   "outputs": [
    {
     "name": "stdout",
     "output_type": "stream",
     "text": [
      "{'akey': 1, 'bkey': 2, 'ckey': 3}\n",
      "1 2 3\n"
     ]
    }
   ],
   "source": [
    "# destruct dict\n",
    "def afun(akey, bkey, ckey):\n",
    "    print(akey, bkey, ckey)\n",
    "params = {\"akey\": 1, \"bkey\": 2, \"ckey\": 3}\n",
    "print(params)\n",
    "afun(**params)"
   ]
  }
 ],
 "metadata": {
  "kernelspec": {
   "display_name": "base",
   "language": "python",
   "name": "python3"
  },
  "language_info": {
   "codemirror_mode": {
    "name": "ipython",
    "version": 3
   },
   "file_extension": ".py",
   "mimetype": "text/x-python",
   "name": "python",
   "nbconvert_exporter": "python",
   "pygments_lexer": "ipython3",
   "version": "3.10.6"
  },
  "orig_nbformat": 4,
  "vscode": {
   "interpreter": {
    "hash": "c6e4e9f98eb68ad3b7c296f83d20e6de614cb42e90992a65aa266555a3137d0d"
   }
  }
 },
 "nbformat": 4,
 "nbformat_minor": 2
}
