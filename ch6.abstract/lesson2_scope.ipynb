{
 "cells": [
  {
   "cell_type": "code",
   "execution_count": 5,
   "metadata": {},
   "outputs": [
    {
     "name": "stdout",
     "output_type": "stream",
     "text": [
      "{'__name__': '__main__', '__doc__': 'Automatically created module for IPython interactive environment', '__package__': None, '__loader__': None, '__spec__': None, '__builtin__': <module 'builtins' (built-in)>, '__builtins__': <module 'builtins' (built-in)>, '_ih': ['', '# vars()\\nx = 1\\nscope = vars()\\nprint(scope)', \"# vars()\\nx = 1\\nscope = vars()\\nprint(scope)\\nprint(scope['x'])\", \"# vars()\\nx = 1\\nscope = vars()\\nprint(scope)\\nprint(scope['x'])\\nprint(scope['scope'])\", \"# vars()\\nx = 1\\nscope = vars()\\nprint(scope)\\nprint(scope['x'])\\nprint(scope['scope'])\\nscope['x'] += 1\\nprint(x)\", \"# vars()\\nx = 1\\nscope = vars()\\nprint(scope)\\nprint(scope['x'])\\nscope['x'] += 1\\nprint(x)\"], '_oh': {}, '_dh': [PosixPath('/Users/zhfeimi/Downloads/Projects/python/learn-python3/ch6.abstract'), PosixPath('/Users/zhfeimi/Downloads/Projects/python/learn-python3/ch6.abstract')], 'In': ['', '# vars()\\nx = 1\\nscope = vars()\\nprint(scope)', \"# vars()\\nx = 1\\nscope = vars()\\nprint(scope)\\nprint(scope['x'])\", \"# vars()\\nx = 1\\nscope = vars()\\nprint(scope)\\nprint(scope['x'])\\nprint(scope['scope'])\", \"# vars()\\nx = 1\\nscope = vars()\\nprint(scope)\\nprint(scope['x'])\\nprint(scope['scope'])\\nscope['x'] += 1\\nprint(x)\", \"# vars()\\nx = 1\\nscope = vars()\\nprint(scope)\\nprint(scope['x'])\\nscope['x'] += 1\\nprint(x)\"], 'Out': {}, 'get_ipython': <bound method InteractiveShell.get_ipython of <ipykernel.zmqshell.ZMQInteractiveShell object at 0x110e35720>>, 'exit': <IPython.core.autocall.ZMQExitAutocall object at 0x110e90610>, 'quit': <IPython.core.autocall.ZMQExitAutocall object at 0x110e90610>, 'open': <function open at 0x105ea17e0>, '_': '', '__': '', '___': '', 'os': <module 'os' from '/opt/homebrew/Caskroom/miniforge/base/lib/python3.10/os.py'>, 'sys': <module 'sys' (built-in)>, '__vsc_ipynb_file__': '/Users/zhfeimi/Downloads/Projects/python/learn-python3/ch6.abstract/lesson2_scope.ipynb', '_i': \"# vars()\\nx = 1\\nscope = vars()\\nprint(scope)\\nprint(scope['x'])\\nprint(scope['scope'])\\nscope['x'] += 1\\nprint(x)\", '_ii': \"# vars()\\nx = 1\\nscope = vars()\\nprint(scope)\\nprint(scope['x'])\\nprint(scope['scope'])\", '_iii': \"# vars()\\nx = 1\\nscope = vars()\\nprint(scope)\\nprint(scope['x'])\", '_i1': '# vars()\\nx = 1\\nscope = vars()\\nprint(scope)', 'x': 1, 'scope': {...}, '_i2': \"# vars()\\nx = 1\\nscope = vars()\\nprint(scope)\\nprint(scope['x'])\", '_i3': \"# vars()\\nx = 1\\nscope = vars()\\nprint(scope)\\nprint(scope['x'])\\nprint(scope['scope'])\", '_i4': \"# vars()\\nx = 1\\nscope = vars()\\nprint(scope)\\nprint(scope['x'])\\nprint(scope['scope'])\\nscope['x'] += 1\\nprint(x)\", '_i5': \"# vars()\\nx = 1\\nscope = vars()\\nprint(scope)\\nprint(scope['x'])\\nscope['x'] += 1\\nprint(x)\"}\n",
      "1\n",
      "2\n"
     ]
    }
   ],
   "source": [
    "# vars()\n",
    "x = 1\n",
    "scope = vars()\n",
    "print(scope)\n",
    "print(scope['x'])\n",
    "scope['x'] += 1\n",
    "print(x)"
   ]
  },
  {
   "cell_type": "code",
   "execution_count": 7,
   "metadata": {},
   "outputs": [
    {
     "name": "stdout",
     "output_type": "stream",
     "text": [
      "3\n",
      "1\n",
      "2\n"
     ]
    }
   ],
   "source": [
    "# every function has its' own scope\n",
    "def fun(x):\n",
    "    x = 3\n",
    "    print(x)\n",
    "x = 1\n",
    "y = 2\n",
    "fun(y)\n",
    "print(x)\n",
    "print(y)"
   ]
  },
  {
   "cell_type": "code",
   "execution_count": 10,
   "metadata": {},
   "outputs": [
    {
     "name": "stdout",
     "output_type": "stream",
     "text": [
      "1\n"
     ]
    },
    {
     "ename": "NameError",
     "evalue": "name 'inner' is not defined",
     "output_type": "error",
     "traceback": [
      "\u001b[0;31m---------------------------------------------------------------------------\u001b[0m",
      "\u001b[0;31mNameError\u001b[0m                                 Traceback (most recent call last)",
      "Cell \u001b[0;32mIn[10], line 8\u001b[0m\n\u001b[1;32m      6\u001b[0m     \u001b[39mprint\u001b[39m(outside)\n\u001b[1;32m      7\u001b[0m fun()\n\u001b[0;32m----> 8\u001b[0m \u001b[39mprint\u001b[39m(inner)\n",
      "\u001b[0;31mNameError\u001b[0m: name 'inner' is not defined"
     ]
    }
   ],
   "source": [
    "# inner scope can access outside scope, but you shouldn't do that, and conversely not allowed\n",
    "\n",
    "outside = 1\n",
    "def fun():\n",
    "    inner = 2\n",
    "    print(outside)\n",
    "fun()\n",
    "print(inner)"
   ]
  },
  {
   "cell_type": "code",
   "execution_count": 13,
   "metadata": {},
   "outputs": [
    {
     "name": "stdout",
     "output_type": "stream",
     "text": [
      "inside\n",
      "outside\n",
      "inside\n"
     ]
    }
   ],
   "source": [
    "# globals() and locals()\n",
    "def fun(parameter):\n",
    "    print(parameter)\n",
    "    print(globals()['parameter'])\n",
    "    print(locals()['parameter'])\n",
    "parameter = 'outside'\n",
    "fun('inside')"
   ]
  },
  {
   "cell_type": "code",
   "execution_count": 14,
   "metadata": {},
   "outputs": [
    {
     "name": "stdout",
     "output_type": "stream",
     "text": [
      "2\n"
     ]
    }
   ],
   "source": [
    "# announce using global value\n",
    "def change_global():\n",
    "    global x\n",
    "    x += 1\n",
    "x = 1\n",
    "change_global()\n",
    "print(x)\n"
   ]
  },
  {
   "cell_type": "code",
   "execution_count": 15,
   "metadata": {},
   "outputs": [
    {
     "name": "stdout",
     "output_type": "stream",
     "text": [
      "3\n"
     ]
    }
   ],
   "source": [
    "# closure: the function defined in local scope, closure can access the variables of wrapper scope\n",
    "def wrapper(y):\n",
    "    def closure(x):\n",
    "        return x + y\n",
    "    return closure\n",
    "print(wrapper(1)(2))\n"
   ]
  },
  {
   "cell_type": "code",
   "execution_count": 16,
   "metadata": {},
   "outputs": [
    {
     "ename": "UnboundLocalError",
     "evalue": "local variable 'y' referenced before assignment",
     "output_type": "error",
     "traceback": [
      "\u001b[0;31m---------------------------------------------------------------------------\u001b[0m",
      "\u001b[0;31mUnboundLocalError\u001b[0m                         Traceback (most recent call last)",
      "Cell \u001b[0;32mIn[16], line 6\u001b[0m\n\u001b[1;32m      4\u001b[0m         \u001b[39mreturn\u001b[39;00m x \u001b[39m+\u001b[39m y\n\u001b[1;32m      5\u001b[0m     \u001b[39mreturn\u001b[39;00m closure\n\u001b[0;32m----> 6\u001b[0m \u001b[39mprint\u001b[39m(wrapper(\u001b[39m1\u001b[39;49m)(\u001b[39m2\u001b[39;49m))\n",
      "Cell \u001b[0;32mIn[16], line 3\u001b[0m, in \u001b[0;36mwrapper.<locals>.closure\u001b[0;34m(x)\u001b[0m\n\u001b[1;32m      2\u001b[0m \u001b[39mdef\u001b[39;00m \u001b[39mclosure\u001b[39m(x):\n\u001b[0;32m----> 3\u001b[0m     y \u001b[39m+\u001b[39m\u001b[39m=\u001b[39m \u001b[39m1\u001b[39m\n\u001b[1;32m      4\u001b[0m     \u001b[39mreturn\u001b[39;00m x \u001b[39m+\u001b[39m y\n",
      "\u001b[0;31mUnboundLocalError\u001b[0m: local variable 'y' referenced before assignment"
     ]
    }
   ],
   "source": [
    "def wrapper(y):\n",
    "    def closure(x):\n",
    "        # can not assign outside variables\n",
    "        y += 1\n",
    "        return x + y\n",
    "    return closure\n",
    "print(wrapper(1)(2))"
   ]
  },
  {
   "cell_type": "code",
   "execution_count": 17,
   "metadata": {},
   "outputs": [
    {
     "name": "stdout",
     "output_type": "stream",
     "text": [
      "4\n",
      "100\n"
     ]
    }
   ],
   "source": [
    "# nonlocal in closure\n",
    "def wrapper(y):\n",
    "    def closure(x):\n",
    "        # can not assign outside scope variables(not global), if not defined with nonlocal\n",
    "        nonlocal y\n",
    "        y += 1\n",
    "        return x + y\n",
    "    return closure\n",
    "y = 100\n",
    "print(wrapper(1)(2))\n",
    "print(y)"
   ]
  }
 ],
 "metadata": {
  "kernelspec": {
   "display_name": "base",
   "language": "python",
   "name": "python3"
  },
  "language_info": {
   "codemirror_mode": {
    "name": "ipython",
    "version": 3
   },
   "file_extension": ".py",
   "mimetype": "text/x-python",
   "name": "python",
   "nbconvert_exporter": "python",
   "pygments_lexer": "ipython3",
   "version": "3.10.6"
  },
  "orig_nbformat": 4,
  "vscode": {
   "interpreter": {
    "hash": "c6e4e9f98eb68ad3b7c296f83d20e6de614cb42e90992a65aa266555a3137d0d"
   }
  }
 },
 "nbformat": 4,
 "nbformat_minor": 2
}
