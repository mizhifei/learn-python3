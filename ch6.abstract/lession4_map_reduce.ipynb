{
 "cells": [
  {
   "cell_type": "code",
   "execution_count": 5,
   "metadata": {},
   "outputs": [
    {
     "name": "stdout",
     "output_type": "stream",
     "text": [
      "['0', '1', '2', '3', '4', '5', '6', '7', '8', '9']\n",
      "['0', '1', '2', '3', '4', '5', '6', '7', '8', '9']\n",
      "['0', '1', '2', '3', '4', '5', '6', '7', '8', '9']\n"
     ]
    }
   ],
   "source": [
    "# map\n",
    "print(list(map(str, range(0, 10))))\n",
    "print([*map(str, range(0, 10))])\n",
    "print([str(i) for i in range(10)])\n"
   ]
  },
  {
   "cell_type": "code",
   "execution_count": 9,
   "metadata": {},
   "outputs": [
    {
     "name": "stdout",
     "output_type": "stream",
     "text": [
      "['foo', 'bar', 'baz', 'x41']\n",
      "['foo', 'bar', 'baz', 'x41']\n",
      "['foo', 'bar', 'baz', 'x41']\n"
     ]
    }
   ],
   "source": [
    "# filter\n",
    "def f(x) -> str:\n",
    "    return x.isalnum()\n",
    "\n",
    "\n",
    "seq = [\"foo\", \"bar\", \"baz\", \"x41\", \"?!\", \"**\"]\n",
    "print(list(filter(f, seq)))\n",
    "print([*filter(f, seq)])\n",
    "print([i for i in seq if i.isalnum()])\n"
   ]
  },
  {
   "cell_type": "code",
   "execution_count": 10,
   "metadata": {},
   "outputs": [
    {
     "name": "stdout",
     "output_type": "stream",
     "text": [
      "['foo', 'bar', 'baz', 'x41']\n"
     ]
    }
   ],
   "source": [
    "# lambda\n",
    "\n",
    "seq = [\"foo\", \"bar\", \"baz\", \"x41\", \"?!\", \"**\"]\n",
    "print(list(filter(lambda x: x.isalnum(), seq)))\n"
   ]
  },
  {
   "cell_type": "code",
   "execution_count": 39,
   "metadata": {},
   "outputs": [
    {
     "name": "stdout",
     "output_type": "stream",
     "text": [
      "15\n",
      "15\n",
      "15\n"
     ]
    }
   ],
   "source": [
    "# reduce\n",
    "from functools import reduce\n",
    "\n",
    "nums = [1, 2, 3, 4, 5]\n",
    "print(reduce(lambda x, y: x + y, nums))\n",
    "print(sum(nums))\n",
    "from operator import add\n",
    "print(reduce(add, nums))"
   ]
  }
 ],
 "metadata": {
  "kernelspec": {
   "display_name": "base",
   "language": "python",
   "name": "python3"
  },
  "language_info": {
   "codemirror_mode": {
    "name": "ipython",
    "version": 3
   },
   "file_extension": ".py",
   "mimetype": "text/x-python",
   "name": "python",
   "nbconvert_exporter": "python",
   "pygments_lexer": "ipython3",
   "version": "3.10.6"
  },
  "orig_nbformat": 4,
  "vscode": {
   "interpreter": {
    "hash": "c6e4e9f98eb68ad3b7c296f83d20e6de614cb42e90992a65aa266555a3137d0d"
   }
  }
 },
 "nbformat": 4,
 "nbformat_minor": 2
}
