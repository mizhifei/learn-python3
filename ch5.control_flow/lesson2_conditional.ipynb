{
 "cells": [
  {
   "cell_type": "code",
   "execution_count": 19,
   "metadata": {},
   "outputs": [
    {
     "name": "stdout",
     "output_type": "stream",
     "text": [
      "Hello, Tom\n"
     ]
    }
   ],
   "source": [
    "name = input('Whats your name:')\n",
    "if name:\n",
    "    print(\"Hello, %s\" % name)"
   ]
  },
  {
   "cell_type": "code",
   "execution_count": null,
   "metadata": {},
   "outputs": [],
   "source": [
    "# code block, code get together has the same indent\n",
    "if True:\n",
    "    # block begin\n",
    "    a = '1'\n",
    "    b = \"2\"\n",
    "    # block end\n",
    "x = 1\n",
    "y = 2"
   ]
  },
  {
   "cell_type": "code",
   "execution_count": 13,
   "metadata": {},
   "outputs": [
    {
     "name": "stdout",
     "output_type": "stream",
     "text": [
      "False False False False False False False\n",
      "True False True False False False False\n",
      "True False True False False False False False\n"
     ]
    }
   ],
   "source": [
    "# these values can be transfer to false value (by bool function), all others will be transfer to True\n",
    "\n",
    "print(\n",
    "    bool(False),\n",
    "    bool(None),\n",
    "    bool(0),\n",
    "    bool(''),\n",
    "    bool(()),\n",
    "    bool([]),\n",
    "    bool({}),\n",
    ")\n",
    "\n",
    "# a value can be treated as true or false not meaning they are equal True or False\n",
    "print(\n",
    "    False == False,\n",
    "    False == None,\n",
    "    False == 0,\n",
    "    False == \"\",\n",
    "    False == (),\n",
    "    False == [],\n",
    "    False == {},\n",
    ")\n",
    "print(\n",
    "    True == True,\n",
    "    True == None,\n",
    "    True == 1,\n",
    "    True == \"\",\n",
    "    True == (),\n",
    "    True == [],\n",
    "    True == {},\n",
    "    True == 10,\n",
    ")\n"
   ]
  },
  {
   "cell_type": "code",
   "execution_count": 7,
   "metadata": {},
   "outputs": [
    {
     "name": "stdout",
     "output_type": "stream",
     "text": [
      "1\n"
     ]
    }
   ],
   "source": [
    "# True = 1, False = 0\n",
    "print(True + False)"
   ]
  },
  {
   "cell_type": "code",
   "execution_count": 15,
   "metadata": {},
   "outputs": [],
   "source": [
    "# python will transfer any value to boolean by using bool() when it needs\n",
    "something = {}\n",
    "if something:\n",
    "    print(True)\n",
    "something = {}\n",
    "if bool(something):\n",
    "    print(True)"
   ]
  },
  {
   "cell_type": "code",
   "execution_count": 65,
   "metadata": {},
   "outputs": [
    {
     "name": "stdout",
     "output_type": "stream",
     "text": [
      "False\n",
      "True\n",
      "True\n",
      "False\n",
      "True\n",
      "False\n"
     ]
    }
   ],
   "source": [
    "# compare number\n",
    "x = 1.1\n",
    "y = 2\n",
    "# ==\n",
    "print(x == y)\n",
    "# !=\n",
    "print(x != y)\n",
    "# <\n",
    "print(x < y)\n",
    "# >\n",
    "print(x > y)\n",
    "# <=\n",
    "print(x <= y)\n",
    "# >=\n",
    "print(x >= y)"
   ]
  },
  {
   "cell_type": "code",
   "execution_count": 67,
   "metadata": {},
   "outputs": [
    {
     "name": "stdout",
     "output_type": "stream",
     "text": [
      "False\n",
      "True\n",
      "True\n",
      "False\n",
      "True\n",
      "False\n"
     ]
    }
   ],
   "source": [
    "# compare string\n",
    "x = 'alpha'\n",
    "y = 'beta'\n",
    "# ==\n",
    "print(x == y)\n",
    "# !=\n",
    "print(x != y)\n",
    "# <\n",
    "print(x < y)\n",
    "# >\n",
    "print(x > y)\n",
    "# <=\n",
    "print(x <= y)\n",
    "# >=\n",
    "print(x >= y)\n"
   ]
  },
  {
   "cell_type": "code",
   "execution_count": 74,
   "metadata": {},
   "outputs": [
    {
     "name": "stdout",
     "output_type": "stream",
     "text": [
      "False\n",
      "True\n"
     ]
    },
    {
     "ename": "TypeError",
     "evalue": "'<' not supported between instances of 'int' and 'list'",
     "output_type": "error",
     "traceback": [
      "\u001b[0;31m---------------------------------------------------------------------------\u001b[0m",
      "\u001b[0;31mTypeError\u001b[0m                                 Traceback (most recent call last)",
      "Cell \u001b[0;32mIn[74], line 9\u001b[0m\n\u001b[1;32m      7\u001b[0m \u001b[39mprint\u001b[39m(x \u001b[39m!=\u001b[39m y)\n\u001b[1;32m      8\u001b[0m \u001b[39m# <\u001b[39;00m\n\u001b[0;32m----> 9\u001b[0m \u001b[39mprint\u001b[39m(x \u001b[39m<\u001b[39;49m y)\n\u001b[1;32m     10\u001b[0m \u001b[39m# >\u001b[39;00m\n\u001b[1;32m     11\u001b[0m \u001b[39mprint\u001b[39m(x \u001b[39m>\u001b[39m y)\n",
      "\u001b[0;31mTypeError\u001b[0m: '<' not supported between instances of 'int' and 'list'"
     ]
    }
   ],
   "source": [
    "# compare list\n",
    "x = [1, 2, 3]\n",
    "y = [1, 3, ]\n",
    "# ==\n",
    "print(x == y)\n",
    "# !=\n",
    "print(x != y)\n",
    "# <\n",
    "print(x < y)\n",
    "# >\n",
    "print(x > y)\n",
    "# <=\n",
    "print(x <= y)\n",
    "# >=\n",
    "print(x >= y)"
   ]
  },
  {
   "cell_type": "code",
   "execution_count": 73,
   "metadata": {},
   "outputs": [
    {
     "name": "stdout",
     "output_type": "stream",
     "text": [
      "False\n",
      "True\n"
     ]
    },
    {
     "ename": "TypeError",
     "evalue": "'<' not supported between instances of 'dict' and 'dict'",
     "output_type": "error",
     "traceback": [
      "\u001b[0;31m---------------------------------------------------------------------------\u001b[0m",
      "\u001b[0;31mTypeError\u001b[0m                                 Traceback (most recent call last)",
      "Cell \u001b[0;32mIn[73], line 9\u001b[0m\n\u001b[1;32m      7\u001b[0m \u001b[39mprint\u001b[39m(x \u001b[39m!=\u001b[39m y)\n\u001b[1;32m      8\u001b[0m \u001b[39m# <\u001b[39;00m\n\u001b[0;32m----> 9\u001b[0m \u001b[39mprint\u001b[39m(x \u001b[39m<\u001b[39;49m y)\n\u001b[1;32m     10\u001b[0m \u001b[39m# >\u001b[39;00m\n\u001b[1;32m     11\u001b[0m \u001b[39mprint\u001b[39m(x \u001b[39m>\u001b[39m y)\n",
      "\u001b[0;31mTypeError\u001b[0m: '<' not supported between instances of 'dict' and 'dict'"
     ]
    }
   ],
   "source": [
    "# compare dict\n",
    "x = {\"a\": 1, \"b\": 2, \"c\": 3}\n",
    "y = {\"a\": 1, \"b\": 3}\n",
    "# ==\n",
    "print(x == y)\n",
    "# !=\n",
    "print(x != y)\n",
    "# <\n",
    "print(x < y)\n",
    "# >\n",
    "print(x > y)\n",
    "# <=\n",
    "print(x <= y)\n",
    "# >=\n",
    "print(x >= y)\n"
   ]
  },
  {
   "cell_type": "code",
   "execution_count": 53,
   "metadata": {},
   "outputs": [
    {
     "name": "stdout",
     "output_type": "stream",
     "text": [
      "False\n",
      "True\n"
     ]
    },
    {
     "ename": "TypeError",
     "evalue": "'<' not supported between instances of 'int' and 'str'",
     "output_type": "error",
     "traceback": [
      "\u001b[0;31m---------------------------------------------------------------------------\u001b[0m",
      "\u001b[0;31mTypeError\u001b[0m                                 Traceback (most recent call last)",
      "Cell \u001b[0;32mIn[53], line 9\u001b[0m\n\u001b[1;32m      6\u001b[0m \u001b[39mprint\u001b[39m(x \u001b[39m!=\u001b[39m y)\n\u001b[1;32m      7\u001b[0m \u001b[39m# can use different type like this\u001b[39;00m\n\u001b[1;32m      8\u001b[0m \u001b[39m# <\u001b[39;00m\n\u001b[0;32m----> 9\u001b[0m \u001b[39mprint\u001b[39m(x \u001b[39m<\u001b[39;49m y)\n\u001b[1;32m     10\u001b[0m \u001b[39m# >\u001b[39;00m\n\u001b[1;32m     11\u001b[0m \u001b[39mprint\u001b[39m(x \u001b[39m>\u001b[39m y)\n",
      "\u001b[0;31mTypeError\u001b[0m: '<' not supported between instances of 'int' and 'str'"
     ]
    }
   ],
   "source": [
    "x = 1\n",
    "y = '1'\n",
    "# ==\n",
    "print(x == y)\n",
    "# !=\n",
    "print(x != y)\n",
    "# can use different type like this\n",
    "# <\n",
    "print(x < y)\n",
    "# >\n",
    "print(x > y)\n",
    "# <=\n",
    "print(x <= y)\n",
    "# >=\n",
    "print(x >= y)"
   ]
  },
  {
   "cell_type": "code",
   "execution_count": 61,
   "metadata": {},
   "outputs": [
    {
     "name": "stdout",
     "output_type": "stream",
     "text": [
      "True\n",
      "False\n",
      "True\n",
      "False\n",
      "False\n",
      "True\n",
      "False\n",
      "True\n"
     ]
    }
   ],
   "source": [
    "# link compare\n",
    "x = 1\n",
    "y = 2\n",
    "print(x < 1.5 < y)\n",
    "print(y < 1.5 < x)\n",
    "print(x <= 1.5 <= y)\n",
    "print(y <= 1.5 <= x)\n",
    "print(x > 1.5 > y)\n",
    "print(y > 1.5 > x)\n",
    "print(x >= 1.5 >= y)\n",
    "print(y >= 1.5 >= x)"
   ]
  },
  {
   "cell_type": "code",
   "execution_count": 64,
   "metadata": {},
   "outputs": [
    {
     "name": "stdout",
     "output_type": "stream",
     "text": [
      "True\n",
      "False\n",
      "True\n",
      "False\n",
      "True\n",
      "True\n",
      "True\n"
     ]
    }
   ],
   "source": [
    "# for objects\n",
    "# is\n",
    "y = x = [1]\n",
    "print(x is y)\n",
    "y = [1]\n",
    "print(x is y)\n",
    "# is not\n",
    "print(x is not y)\n",
    "# in\n",
    "print(x in y)\n",
    "# not in\n",
    "print(x not in y)\n",
    "\n",
    "\n",
    "print(1 in x)\n",
    "print('a' in 'abc')"
   ]
  },
  {
   "cell_type": "code",
   "execution_count": 76,
   "metadata": {},
   "outputs": [
    {
     "name": "stdout",
     "output_type": "stream",
     "text": [
      "True\n",
      "False\n",
      "False\n",
      "False\n"
     ]
    }
   ],
   "source": [
    "# boolean operational # and\n",
    "true = True\n",
    "false = False\n",
    "\n",
    "print(true and true)\n",
    "print(true and false)\n",
    "print(false and true)\n",
    "print(false and false)"
   ]
  },
  {
   "cell_type": "code",
   "execution_count": 77,
   "metadata": {},
   "outputs": [
    {
     "name": "stdout",
     "output_type": "stream",
     "text": [
      "True\n",
      "True\n",
      "True\n",
      "False\n"
     ]
    }
   ],
   "source": [
    "# boolean operational # or\n",
    "true = True\n",
    "false = False\n",
    "\n",
    "print(true or true)\n",
    "print(true or false)\n",
    "print(false or true)\n",
    "print(false or false)"
   ]
  },
  {
   "cell_type": "code",
   "execution_count": 78,
   "metadata": {},
   "outputs": [
    {
     "name": "stdout",
     "output_type": "stream",
     "text": [
      "False\n",
      "True\n"
     ]
    }
   ],
   "source": [
    "# boolean operational # not\n",
    "true = True\n",
    "false = False\n",
    "\n",
    "print(not true)\n",
    "print(not false)"
   ]
  },
  {
   "cell_type": "code",
   "execution_count": 81,
   "metadata": {},
   "outputs": [
    {
     "name": "stdout",
     "output_type": "stream",
     "text": [
      "False\n"
     ]
    }
   ],
   "source": [
    "# short-circuit logic for and\n",
    "true = True\n",
    "false = False\n",
    "# for a and b, if a is false, return false immediately\n",
    "print(false and true)"
   ]
  },
  {
   "cell_type": "code",
   "execution_count": 85,
   "metadata": {},
   "outputs": [
    {
     "name": "stdout",
     "output_type": "stream",
     "text": [
      "False\n",
      "<UNKNOWN>\n"
     ]
    }
   ],
   "source": [
    "# short-circuit logic for or\n",
    "true = True\n",
    "false = False\n",
    "# for a or b, if a is true, return true immediately\n",
    "print(true and false)\n",
    "# can be use to assignment default value\n",
    "name = input(\"Whats your name?\") or '<UNKNOWN>'\n",
    "print(name)"
   ]
  },
  {
   "cell_type": "code",
   "execution_count": 89,
   "metadata": {},
   "outputs": [
    {
     "name": "stdout",
     "output_type": "stream",
     "text": [
      "You are adult\n"
     ]
    }
   ],
   "source": [
    "# 3 values operation\n",
    "age = int(input(\"How old are you?\"))\n",
    "is_adult = 'adult' if age >= 18 else \"child\"\n",
    "print('You are %s' % is_adult )"
   ]
  },
  {
   "cell_type": "code",
   "execution_count": 90,
   "metadata": {},
   "outputs": [
    {
     "ename": "AssertionError",
     "evalue": "This job not suit you",
     "output_type": "error",
     "traceback": [
      "\u001b[0;31m---------------------------------------------------------------------------\u001b[0m",
      "\u001b[0;31mAssertionError\u001b[0m                            Traceback (most recent call last)",
      "Cell \u001b[0;32mIn[90], line 3\u001b[0m\n\u001b[1;32m      1\u001b[0m \u001b[39m# assert\u001b[39;00m\n\u001b[1;32m      2\u001b[0m age \u001b[39m=\u001b[39m \u001b[39mint\u001b[39m(\u001b[39minput\u001b[39m(\u001b[39m\"\u001b[39m\u001b[39mHow old are you?\u001b[39m\u001b[39m\"\u001b[39m))\n\u001b[0;32m----> 3\u001b[0m \u001b[39massert\u001b[39;00m \u001b[39m18\u001b[39m \u001b[39m<\u001b[39m\u001b[39m=\u001b[39m age \u001b[39m<\u001b[39m\u001b[39m=\u001b[39m \u001b[39m35\u001b[39m, \u001b[39m'\u001b[39m\u001b[39mThis job not suit you\u001b[39m\u001b[39m'\u001b[39m\n",
      "\u001b[0;31mAssertionError\u001b[0m: This job not suit you"
     ]
    }
   ],
   "source": [
    "# assert\n",
    "age = int(input(\"How old are you?\"))\n",
    "assert 18 <= age <= 35, 'This job not suit you'"
   ]
  }
 ],
 "metadata": {
  "kernelspec": {
   "display_name": "Python 3.10.6 ('base')",
   "language": "python",
   "name": "python3"
  },
  "language_info": {
   "codemirror_mode": {
    "name": "ipython",
    "version": 3
   },
   "file_extension": ".py",
   "mimetype": "text/x-python",
   "name": "python",
   "nbconvert_exporter": "python",
   "pygments_lexer": "ipython3",
   "version": "3.10.6"
  },
  "orig_nbformat": 4,
  "vscode": {
   "interpreter": {
    "hash": "c6e4e9f98eb68ad3b7c296f83d20e6de614cb42e90992a65aa266555a3137d0d"
   }
  }
 },
 "nbformat": 4,
 "nbformat_minor": 2
}
