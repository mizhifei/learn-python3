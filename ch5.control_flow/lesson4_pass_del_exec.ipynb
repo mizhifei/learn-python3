{
 "cells": [
  {
   "cell_type": "code",
   "execution_count": 2,
   "metadata": {},
   "outputs": [],
   "source": [
    "# pass, do nothing\n",
    "pass\n",
    "if True:\n",
    "    # do nothing\n",
    "    \"\"\"\"\"\"\n",
    "\n",
    "if True:\n",
    "    {}\n",
    "\n",
    "if True:\n",
    "    0\n",
    "\n",
    "if True:\n",
    "    False\n",
    "\n",
    "if True:\n",
    "    ()\n",
    "\n",
    "if True:\n",
    "    []\n",
    "\n",
    "if True:\n",
    "    pass\n"
   ]
  },
  {
   "cell_type": "code",
   "execution_count": 4,
   "metadata": {},
   "outputs": [
    {
     "ename": "NameError",
     "evalue": "name 'a' is not defined",
     "output_type": "error",
     "traceback": [
      "\u001b[0;31m---------------------------------------------------------------------------\u001b[0m",
      "\u001b[0;31mNameError\u001b[0m                                 Traceback (most recent call last)",
      "Cell \u001b[0;32mIn[4], line 4\u001b[0m\n\u001b[1;32m      2\u001b[0m a \u001b[39m=\u001b[39m \u001b[39m0\u001b[39m\n\u001b[1;32m      3\u001b[0m \u001b[39mdel\u001b[39;00m a\n\u001b[0;32m----> 4\u001b[0m \u001b[39mprint\u001b[39m(a)\n",
      "\u001b[0;31mNameError\u001b[0m: name 'a' is not defined"
     ]
    }
   ],
   "source": [
    "# del, delete an object, only delete the variable's name, not the value\n",
    "a = 0\n",
    "del a\n",
    "print(a)\n"
   ]
  },
  {
   "cell_type": "code",
   "execution_count": 7,
   "metadata": {},
   "outputs": [
    {
     "ename": "NameError",
     "evalue": "name 'pow' is not defined",
     "output_type": "error",
     "traceback": [
      "\u001b[0;31m---------------------------------------------------------------------------\u001b[0m",
      "\u001b[0;31mNameError\u001b[0m                                 Traceback (most recent call last)",
      "Cell \u001b[0;32mIn[7], line 1\u001b[0m\n\u001b[0;32m----> 1\u001b[0m \u001b[39mdel\u001b[39;00m \u001b[39mpow\u001b[39m\n\u001b[1;32m      2\u001b[0m \u001b[39mprint\u001b[39m(\u001b[39mpow\u001b[39m(\u001b[39m2\u001b[39m, \u001b[39m2\u001b[39m))\n",
      "\u001b[0;31mNameError\u001b[0m: name 'pow' is not defined"
     ]
    }
   ],
   "source": [
    "del pow\n",
    "print(pow(2, 2))\n"
   ]
  },
  {
   "cell_type": "code",
   "execution_count": 8,
   "metadata": {},
   "outputs": [
    {
     "name": "stdout",
     "output_type": "stream",
     "text": [
      "0\n"
     ]
    }
   ],
   "source": [
    "# only delete the variable's name, not the value\n",
    "x = y = 0\n",
    "del y\n",
    "print(x)\n"
   ]
  },
  {
   "cell_type": "code",
   "execution_count": 9,
   "metadata": {},
   "outputs": [
    {
     "name": "stdout",
     "output_type": "stream",
     "text": [
      "Hello, Python!\n"
     ]
    }
   ],
   "source": [
    "# exec, execute code from a string\n",
    "code = 'print(\"Hello, Python!\")'\n",
    "exec(code)\n"
   ]
  },
  {
   "cell_type": "code",
   "execution_count": 1,
   "metadata": {},
   "outputs": [
    {
     "ename": "TypeError",
     "evalue": "'str' object is not callable",
     "output_type": "error",
     "traceback": [
      "\u001b[0;31m---------------------------------------------------------------------------\u001b[0m",
      "\u001b[0;31mTypeError\u001b[0m                                 Traceback (most recent call last)",
      "Cell \u001b[0;32mIn[1], line 4\u001b[0m\n\u001b[1;32m      2\u001b[0m backup_pow \u001b[39m=\u001b[39m \u001b[39mpow\u001b[39m\n\u001b[1;32m      3\u001b[0m exec(\u001b[39m'\u001b[39m\u001b[39mpow = \u001b[39m\u001b[39m\"\u001b[39m\u001b[39minfinity\u001b[39m\u001b[39m\"\u001b[39m\u001b[39m'\u001b[39m)\n\u001b[0;32m----> 4\u001b[0m x \u001b[39m=\u001b[39m \u001b[39mpow\u001b[39;49m(\u001b[39m2\u001b[39;49m, \u001b[39m2\u001b[39;49m)  \u001b[39m# error\u001b[39;00m\n",
      "\u001b[0;31mTypeError\u001b[0m: 'str' object is not callable"
     ]
    }
   ],
   "source": [
    "# exec has security problem\n",
    "backup_pow = pow\n",
    "exec('pow = \"infinity\"')\n",
    "x = pow(2, 2)  # error\n"
   ]
  },
  {
   "cell_type": "code",
   "execution_count": 20,
   "metadata": {},
   "outputs": [
    {
     "name": "stdout",
     "output_type": "stream",
     "text": [
      "<class 'code'>\n",
      "Hello, Python!\n"
     ]
    }
   ],
   "source": [
    "# compile\n",
    "s = 'print(\"Hello, Python!\")'\n",
    "compiled_code = compile(s, \"<string>\", \"exec\")\n",
    "print(type(compiled_code))\n",
    "exec(compiled_code)\n"
   ]
  },
  {
   "cell_type": "code",
   "execution_count": 6,
   "metadata": {},
   "outputs": [
    {
     "name": "stdout",
     "output_type": "stream",
     "text": [
      "dict_keys([])\n",
      "dict_keys([])\n",
      "dict_keys(['__builtins__'])\n",
      "dict_keys(['pow'])\n",
      "8\n"
     ]
    }
   ],
   "source": [
    "# scope, can avoid exec problem, not all\n",
    "pow = backup_pow\n",
    "global_scope = {}\n",
    "print(global_scope.keys())\n",
    "local_scope = {}\n",
    "print(local_scope.keys())\n",
    "exec('pow = \"infinity\"', global_scope, local_scope)\n",
    "print(global_scope.keys())\n",
    "print(local_scope.keys())\n",
    "print(pow(2, 3))\n"
   ]
  },
  {
   "cell_type": "code",
   "execution_count": 11,
   "metadata": {},
   "outputs": [
    {
     "name": "stdout",
     "output_type": "stream",
     "text": [
      "8\n"
     ]
    }
   ],
   "source": [
    "# eval, evaluate expression and return result, also isn't secure\n",
    "global_scope = {}\n",
    "local_scope = {}\n",
    "result = eval('pow(2,3)', global_scope, local_scope)\n",
    "print(result)"
   ]
  }
 ],
 "metadata": {
  "kernelspec": {
   "display_name": "Python 3.10.6 ('base')",
   "language": "python",
   "name": "python3"
  },
  "language_info": {
   "codemirror_mode": {
    "name": "ipython",
    "version": 3
   },
   "file_extension": ".py",
   "mimetype": "text/x-python",
   "name": "python",
   "nbconvert_exporter": "python",
   "pygments_lexer": "ipython3",
   "version": "3.10.6"
  },
  "orig_nbformat": 4,
  "vscode": {
   "interpreter": {
    "hash": "c6e4e9f98eb68ad3b7c296f83d20e6de614cb42e90992a65aa266555a3137d0d"
   }
  }
 },
 "nbformat": 4,
 "nbformat_minor": 2
}
