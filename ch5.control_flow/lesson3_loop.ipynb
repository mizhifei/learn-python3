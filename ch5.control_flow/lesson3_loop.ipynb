{
 "cells": [
  {
   "cell_type": "code",
   "execution_count": 1,
   "metadata": {},
   "outputs": [
    {
     "name": "stdout",
     "output_type": "stream",
     "text": [
      "1\n",
      "2\n",
      "3\n",
      "4\n",
      "5\n",
      "6\n",
      "7\n",
      "8\n",
      "9\n",
      "10\n",
      "11\n",
      "12\n",
      "13\n",
      "14\n",
      "15\n",
      "16\n",
      "17\n",
      "18\n",
      "19\n",
      "20\n",
      "21\n",
      "22\n",
      "23\n",
      "24\n",
      "25\n",
      "26\n",
      "27\n",
      "28\n",
      "29\n",
      "30\n",
      "31\n",
      "32\n",
      "33\n",
      "34\n",
      "35\n",
      "36\n",
      "37\n",
      "38\n",
      "39\n",
      "40\n",
      "41\n",
      "42\n",
      "43\n",
      "44\n",
      "45\n",
      "46\n",
      "47\n",
      "48\n",
      "49\n",
      "50\n",
      "51\n",
      "52\n",
      "53\n",
      "54\n",
      "55\n",
      "56\n",
      "57\n",
      "58\n",
      "59\n",
      "60\n",
      "61\n",
      "62\n",
      "63\n",
      "64\n",
      "65\n",
      "66\n",
      "67\n",
      "68\n",
      "69\n",
      "70\n",
      "71\n",
      "72\n",
      "73\n",
      "74\n",
      "75\n",
      "76\n",
      "77\n",
      "78\n",
      "79\n",
      "80\n",
      "81\n",
      "82\n",
      "83\n",
      "84\n",
      "85\n",
      "86\n",
      "87\n",
      "88\n",
      "89\n",
      "90\n",
      "91\n",
      "92\n",
      "93\n",
      "94\n",
      "95\n",
      "96\n",
      "97\n",
      "98\n",
      "99\n",
      "100\n"
     ]
    }
   ],
   "source": [
    "# while loop\n",
    "x = 1\n",
    "while x <= 100:\n",
    "    print(x)\n",
    "    x += 1"
   ]
  },
  {
   "cell_type": "code",
   "execution_count": 2,
   "metadata": {},
   "outputs": [
    {
     "name": "stdout",
     "output_type": "stream",
     "text": [
      "Hello\n",
      "World\n",
      "Hello\n",
      "Python\n"
     ]
    }
   ],
   "source": [
    "# for loop\n",
    "words = [\"Hello\", \"World\", \"Hello\", \"Python\"]\n",
    "for word in words:\n",
    "    print(word)"
   ]
  },
  {
   "cell_type": "code",
   "execution_count": 25,
   "metadata": {},
   "outputs": [
    {
     "name": "stdout",
     "output_type": "stream",
     "text": [
      "0 Hello\n",
      "1 World\n",
      "2 Hello\n",
      "3 Python\n"
     ]
    }
   ],
   "source": [
    "# enumerate(), for with index\n",
    "words = [\"Hello\", \"World\", \"Hello\", \"Python\"]\n",
    "for index, word in enumerate(words):\n",
    "    print(index, word)\n"
   ]
  },
  {
   "cell_type": "code",
   "execution_count": 9,
   "metadata": {},
   "outputs": [
    {
     "name": "stdout",
     "output_type": "stream",
     "text": [
      "0\n",
      "1\n",
      "2\n",
      "3\n",
      "4\n",
      "5\n",
      "6\n",
      "7\n",
      "8\n",
      "9\n",
      "10\n",
      "11\n",
      "12\n",
      "13\n",
      "14\n",
      "15\n",
      "16\n",
      "17\n",
      "18\n",
      "19\n",
      "20\n",
      "21\n",
      "22\n",
      "23\n",
      "24\n",
      "25\n",
      "26\n",
      "27\n",
      "28\n",
      "29\n",
      "30\n",
      "31\n",
      "32\n",
      "33\n",
      "34\n",
      "35\n",
      "36\n",
      "37\n",
      "38\n",
      "39\n",
      "40\n",
      "41\n",
      "42\n",
      "43\n",
      "44\n",
      "45\n",
      "46\n",
      "47\n",
      "48\n",
      "49\n",
      "50\n",
      "51\n",
      "52\n",
      "53\n",
      "54\n",
      "55\n",
      "56\n",
      "57\n",
      "58\n",
      "59\n",
      "60\n",
      "61\n",
      "62\n",
      "63\n",
      "64\n",
      "65\n",
      "66\n",
      "67\n",
      "68\n",
      "69\n",
      "70\n",
      "71\n",
      "72\n",
      "73\n",
      "74\n",
      "75\n",
      "76\n",
      "77\n",
      "78\n",
      "79\n",
      "80\n",
      "81\n",
      "82\n",
      "83\n",
      "84\n",
      "85\n",
      "86\n",
      "87\n",
      "88\n",
      "89\n",
      "90\n",
      "91\n",
      "92\n",
      "93\n",
      "94\n",
      "95\n",
      "96\n",
      "97\n",
      "98\n",
      "99\n"
     ]
    }
   ],
   "source": [
    "# range()\n",
    "for x in range(100):\n",
    "    print(x)"
   ]
  },
  {
   "cell_type": "code",
   "execution_count": 24,
   "metadata": {},
   "outputs": [
    {
     "name": "stdout",
     "output_type": "stream",
     "text": [
      "0\n",
      "2\n",
      "4\n",
      "6\n",
      "8\n",
      "100\n",
      "98\n",
      "96\n",
      "94\n",
      "92\n"
     ]
    }
   ],
   "source": [
    "# steps of range\n",
    "for x in range(0, 10, 2):\n",
    "    print(x)\n",
    "for x in range(100, 90, -2):\n",
    "    print(x)"
   ]
  },
  {
   "cell_type": "code",
   "execution_count": 12,
   "metadata": {},
   "outputs": [
    {
     "name": "stdout",
     "output_type": "stream",
     "text": [
      "name\n",
      "sex\n",
      "age\n",
      "name Tom\n",
      "sex Male\n",
      "age 24\n"
     ]
    }
   ],
   "source": [
    "# for dict\n",
    "tom = {\"name\": \"Tom\", \"sex\": \"Male\", 'age': 24}\n",
    "# default for dict return keys\n",
    "for k in tom:\n",
    "    print(k)\n",
    "for k, v in tom.items():\n",
    "    print(k, v)\n"
   ]
  },
  {
   "cell_type": "code",
   "execution_count": 13,
   "metadata": {},
   "outputs": [
    {
     "name": "stdout",
     "output_type": "stream",
     "text": [
      "anne is 12\n",
      "beth is 45\n",
      "george is 32\n",
      "damon is 102\n"
     ]
    }
   ],
   "source": [
    "\n",
    "names = [\"anne\", \"beth\", \"george\", \"damon\"]\n",
    "ages = [12, 45, 32, 102]\n",
    "for i in range(len(names)):\n",
    "    print(names[i], 'is', ages[i])"
   ]
  },
  {
   "cell_type": "code",
   "execution_count": 14,
   "metadata": {},
   "outputs": [
    {
     "name": "stdout",
     "output_type": "stream",
     "text": [
      "anne is 12\n",
      "beth is 45\n",
      "george is 32\n",
      "damon is 102\n"
     ]
    }
   ],
   "source": [
    "# zip\n",
    "for name, age in zip(names, ages):\n",
    "    print(name, 'is', age)\n"
   ]
  },
  {
   "cell_type": "code",
   "execution_count": 17,
   "metadata": {},
   "outputs": [
    {
     "name": "stdout",
     "output_type": "stream",
     "text": [
      "0 0\n",
      "1 1\n",
      "2 2\n",
      "3 3\n",
      "4 4\n",
      "5 5\n",
      "6 6\n",
      "7 7\n",
      "8 8\n",
      "9 9\n"
     ]
    }
   ],
   "source": [
    "# zip + range\n",
    "for k, v in zip(range(10), range(100)):\n",
    "    print(k, v)"
   ]
  },
  {
   "cell_type": "code",
   "execution_count": 29,
   "metadata": {},
   "outputs": [
    {
     "name": "stdout",
     "output_type": "stream",
     "text": [
      "81\n"
     ]
    }
   ],
   "source": [
    "# break loop\n",
    "# find max sqrt under 100\n",
    "from math import sqrt\n",
    "for n in range(99, 0, -1):\n",
    "    root = sqrt(n)\n",
    "    if root == int(root):\n",
    "        print(n)\n",
    "        break"
   ]
  },
  {
   "cell_type": "code",
   "execution_count": 31,
   "metadata": {},
   "outputs": [
    {
     "name": "stdout",
     "output_type": "stream",
     "text": [
      "0\n",
      "2\n",
      "4\n",
      "6\n",
      "8\n"
     ]
    }
   ],
   "source": [
    "# continue loop\n",
    "for x in range(0, 10,):\n",
    "    if x % 2 == 1:\n",
    "        continue\n",
    "    print(x)"
   ]
  },
  {
   "cell_type": "code",
   "execution_count": 1,
   "metadata": {},
   "outputs": [],
   "source": [
    "\n",
    "# else for loop\n",
    "found = False\n",
    "for x in 'I know Python, Java, Clang, PHP':\n",
    "    if x == 'v':\n",
    "        found = True\n",
    "        break\n",
    "if not found:\n",
    "    print(\"Don't find v\")\n",
    "\n",
    "# A easier way, can also work with while\n",
    "for x in 'I know Python, Java, Clang, PHP':\n",
    "    if x == 'v':\n",
    "        break\n",
    "# if not break, else will be execute\n",
    "else:\n",
    "    print(\"Don't find v\")"
   ]
  },
  {
   "cell_type": "code",
   "execution_count": 49,
   "metadata": {},
   "outputs": [
    {
     "name": "stdout",
     "output_type": "stream",
     "text": [
      "[0, 1, 4, 9, 16, 25, 36, 49, 64, 81]\n",
      "[0, 9, 36, 81]\n",
      "[(0, 3), (0, 4), (0, 5), (1, 3), (1, 4), (1, 5), (2, 3), (2, 4), (2, 5)]\n",
      "[(0, 3), (0, 5), (2, 3), (2, 5)]\n",
      "[(0, 3), (0, 5), (2, 3), (2, 5)]\n"
     ]
    }
   ],
   "source": [
    "# list comprehension\n",
    "l = [x**2 for x in range(10)]\n",
    "print(l)\n",
    "\n",
    "# add filter\n",
    "lif = [x**2 for x in range(10) if x % 3 == 0]\n",
    "print(lif)\n",
    "\n",
    "# nested\n",
    "ln = [(x, y) for x in range(3) for y in range(3, 6)]\n",
    "print(ln)\n",
    "\n",
    "# nested filter\n",
    "ln = [(x, y) for x in range(3) if x % 2 == 0 for y in range(3, 6) if y % 2 == 1]\n",
    "print(ln)\n",
    "ln = [(x, y) for x in range(3) for y in range(3, 6) if y % 2 == 1 if x % 2 == 0]\n",
    "print(ln)"
   ]
  },
  {
   "cell_type": "code",
   "execution_count": 2,
   "metadata": {},
   "outputs": [
    {
     "name": "stdout",
     "output_type": "stream",
     "text": [
      "7 squared is 49\n"
     ]
    }
   ],
   "source": [
    "# dict comprehension\n",
    "sq = {i:\"{} squared is {}\".format(i, i**2) for i in range(10)}\n",
    "print(sq[7])"
   ]
  },
  {
   "cell_type": "code",
   "execution_count": 5,
   "metadata": {},
   "outputs": [
    {
     "name": "stdout",
     "output_type": "stream",
     "text": [
      "<generator object <genexpr> at 0x10766ef10>\n",
      "0\n",
      "1\n",
      "2\n",
      "3\n",
      "4\n",
      "5\n",
      "6\n",
      "7\n",
      "8\n",
      "9\n"
     ]
    },
    {
     "ename": "TypeError",
     "evalue": "'generator' object is not subscriptable",
     "output_type": "error",
     "traceback": [
      "\u001b[0;31m---------------------------------------------------------------------------\u001b[0m",
      "\u001b[0;31mTypeError\u001b[0m                                 Traceback (most recent call last)",
      "Cell \u001b[0;32mIn[5], line 6\u001b[0m\n\u001b[1;32m      4\u001b[0m \u001b[39mfor\u001b[39;00m i \u001b[39min\u001b[39;00m gen:\n\u001b[1;32m      5\u001b[0m     \u001b[39mprint\u001b[39m(i)\n\u001b[0;32m----> 6\u001b[0m \u001b[39mprint\u001b[39m(gen[\u001b[39m0\u001b[39;49m])\n",
      "\u001b[0;31mTypeError\u001b[0m: 'generator' object is not subscriptable"
     ]
    }
   ],
   "source": [
    "# tuple comprehension is a generator\n",
    "gen = (i for i in range(10))\n",
    "print(gen)\n",
    "for i in gen:\n",
    "    print(i)\n",
    "print(gen[0])"
   ]
  },
  {
   "cell_type": "code",
   "execution_count": 4,
   "metadata": {},
   "outputs": [
    {
     "name": "stdout",
     "output_type": "stream",
     "text": [
      "['chris+clarice', 'arnold+alice', 'bob+bernie', 'andy+alice']\n",
      "['chris+clarice', 'arnold+alice', 'bob+bernie', 'andy+alice']\n"
     ]
    }
   ],
   "source": [
    "# example for nested filter of list comprehension\n",
    "boys = ['chris', 'arnold', 'bob', 'andy']\n",
    "girls = ['alice', 'bernie', 'clarice', 'dory']\n",
    "gb = ['%s+%s' % (b, g) for b in boys for g in girls if b[0] == g[0]]\n",
    "print(gb)\n",
    "\n",
    "# better algorism\n",
    "letter_girls = {}\n",
    "for girl in girls:\n",
    "    letter_girls.setdefault(girl[0], []).append(girl)\n",
    "gb = ['%s+%s' % (b, g) for b in boys for g in letter_girls[b[0]]]\n",
    "print(gb)"
   ]
  }
 ],
 "metadata": {
  "kernelspec": {
   "display_name": "Python 3.10.6 ('base')",
   "language": "python",
   "name": "python3"
  },
  "language_info": {
   "codemirror_mode": {
    "name": "ipython",
    "version": 3
   },
   "file_extension": ".py",
   "mimetype": "text/x-python",
   "name": "python",
   "nbconvert_exporter": "python",
   "pygments_lexer": "ipython3",
   "version": "3.10.6"
  },
  "orig_nbformat": 4,
  "vscode": {
   "interpreter": {
    "hash": "c6e4e9f98eb68ad3b7c296f83d20e6de614cb42e90992a65aa266555a3137d0d"
   }
  }
 },
 "nbformat": 4,
 "nbformat_minor": 2
}
