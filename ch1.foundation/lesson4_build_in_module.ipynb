{
 "cells": [
  {
   "cell_type": "code",
   "execution_count": 1,
   "metadata": {},
   "outputs": [
    {
     "name": "stdout",
     "output_type": "stream",
     "text": [
      "Hi, I'm Tommy, I'm 20\n"
     ]
    }
   ],
   "source": [
    "# Python has 2 way to using a function from a module\n",
    "# import total module, then use module_name.function_name to use it\n",
    "import math\n",
    "print(\"Hi, I'm Tommy, I'm\", math.floor(20.9))\n",
    "# U can assign an alias to the module you imported\n",
    "import math as mth\n",
    "print(\"Hi, I'm Tommy, I'm\", mth.floor(20.9))\n"
   ]
  },
  {
   "cell_type": "code",
   "execution_count": 2,
   "metadata": {},
   "outputs": [
    {
     "name": "stdout",
     "output_type": "stream",
     "text": [
      "21\n",
      "2.0\n"
     ]
    }
   ],
   "source": [
    "\n",
    "# only input the part you want to use it\n",
    "from math import ceil\n",
    "print(ceil(20.9))\n",
    "# U also can assign an alias to the part you imported\n",
    "from math import sqrt as math_sqrt\n",
    "print(math_sqrt(4))"
   ]
  },
  {
   "cell_type": "code",
   "execution_count": 1,
   "metadata": {},
   "outputs": [
    {
     "ename": "NameError",
     "evalue": "name 'math_sqrt' is not defined",
     "output_type": "error",
     "traceback": [
      "\u001b[0;31m---------------------------------------------------------------------------\u001b[0m",
      "\u001b[0;31mNameError\u001b[0m                                 Traceback (most recent call last)",
      "Cell \u001b[0;32mIn[1], line 2\u001b[0m\n\u001b[1;32m      1\u001b[0m \u001b[39m# cmath, you can't use math.sqrt on a negative number, but you can use cmath.sqrt on a negative number, cmath mean complex math.\u001b[39;00m\n\u001b[0;32m----> 2\u001b[0m \u001b[39mprint\u001b[39m(math_sqrt(\u001b[39m-\u001b[39m\u001b[39m1\u001b[39m))\n",
      "\u001b[0;31mNameError\u001b[0m: name 'math_sqrt' is not defined"
     ]
    }
   ],
   "source": [
    "# cmath, you can't use math.sqrt on a negative number, but you can use cmath.sqrt on a negative number, cmath mean complex math.\n",
    "print(math_sqrt(-1))"
   ]
  },
  {
   "cell_type": "code",
   "execution_count": 2,
   "metadata": {},
   "outputs": [
    {
     "name": "stdout",
     "output_type": "stream",
     "text": [
      "1j\n"
     ]
    }
   ],
   "source": [
    "from cmath import sqrt as cmath_sqrt\n",
    "print(cmath_sqrt(-1))"
   ]
  },
  {
   "cell_type": "code",
   "execution_count": 3,
   "metadata": {},
   "outputs": [
    {
     "name": "stdout",
     "output_type": "stream",
     "text": [
      "(-5+10j)\n"
     ]
    }
   ],
   "source": [
    "# 1j is imaginary number in complex math, actually, Python supports complex numbers operation.\n",
    "cn = (1 + 2j) * (3 + 4j)\n",
    "print(cn)"
   ]
  }
 ],
 "metadata": {
  "kernelspec": {
   "display_name": "Python 3.10.6 ('base')",
   "language": "python",
   "name": "python3"
  },
  "language_info": {
   "codemirror_mode": {
    "name": "ipython",
    "version": 3
   },
   "file_extension": ".py",
   "mimetype": "text/x-python",
   "name": "python",
   "nbconvert_exporter": "python",
   "pygments_lexer": "ipython3",
   "version": "3.10.6"
  },
  "orig_nbformat": 4,
  "vscode": {
   "interpreter": {
    "hash": "c6e4e9f98eb68ad3b7c296f83d20e6de614cb42e90992a65aa266555a3137d0d"
   }
  }
 },
 "nbformat": 4,
 "nbformat_minor": 2
}
