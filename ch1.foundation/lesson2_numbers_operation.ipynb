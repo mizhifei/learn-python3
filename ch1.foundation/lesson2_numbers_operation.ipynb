{
 "cells": [
  {
   "cell_type": "code",
   "execution_count": 1,
   "metadata": {},
   "outputs": [
    {
     "name": "stdout",
     "output_type": "stream",
     "text": [
      "0.30000000000000004\n",
      "-0.1\n",
      "0.020000000000000004\n"
     ]
    }
   ],
   "source": [
    "# Python's float is based on IEEE 754, so you can get lost results' precision when calculating them.\n",
    "print(0.1 + 0.2) #plus\n",
    "print(0.1 - 0.2) #minus\n",
    "print(0.1 * 0.2) #multiply\n"
   ]
  },
  {
   "cell_type": "code",
   "execution_count": 2,
   "metadata": {},
   "outputs": [
    {
     "name": "stdout",
     "output_type": "stream",
     "text": [
      "3.3333333333333335\n",
      "2.0\n"
     ]
    }
   ],
   "source": [
    "# Python has 2 kinds of divisions, the first is /, which can get a float result\n",
    "print(10 / 3)\n",
    "# Division using / always get an exact float value, even if its result suppose to be an integer\n",
    "print(4 / 2)\n"
   ]
  },
  {
   "cell_type": "code",
   "execution_count": 3,
   "metadata": {},
   "outputs": [
    {
     "name": "stdout",
     "output_type": "stream",
     "text": [
      "3\n",
      "2.0\n"
     ]
    }
   ],
   "source": [
    "# Python has another division, floor division which uses //, it always only keeps the integer part of the result, and drops the fractional part.\n",
    "print(10 // 3)\n",
    "print(4.0 // 2.0)\n"
   ]
  },
  {
   "cell_type": "code",
   "execution_count": 4,
   "metadata": {},
   "outputs": [
    {
     "name": "stdout",
     "output_type": "stream",
     "text": [
      "1\n",
      "1.1999999999999997\n"
     ]
    }
   ],
   "source": [
    "# With %, you can mod two numbers to get the remainder of their division operation\n",
    "print(10 % 3)\n",
    "print(10.5 % 3.1)\n"
   ]
  },
  {
   "cell_type": "code",
   "execution_count": 6,
   "metadata": {},
   "outputs": [
    {
     "name": "stdout",
     "output_type": "stream",
     "text": [
      "1\n",
      "8\n",
      "0.5\n",
      "-9\n",
      "9\n"
     ]
    }
   ],
   "source": [
    "# U can do exponentiation between two numbers by using **\n",
    "print(2 ** 0)\n",
    "print(2 ** 3)\n",
    "print(2 ** -1)\n",
    "# Please note ** takes precedence operation over -\n",
    "print(-3 ** 2)\n",
    "print((-3) ** 2)"
   ]
  }
 ],
 "metadata": {
  "kernelspec": {
   "display_name": "Python 3.10.6 ('base')",
   "language": "python",
   "name": "python3"
  },
  "language_info": {
   "codemirror_mode": {
    "name": "ipython",
    "version": 3
   },
   "file_extension": ".py",
   "mimetype": "text/x-python",
   "name": "python",
   "nbconvert_exporter": "python",
   "pygments_lexer": "ipython3",
   "version": "3.10.6"
  },
  "orig_nbformat": 4,
  "vscode": {
   "interpreter": {
    "hash": "c6e4e9f98eb68ad3b7c296f83d20e6de614cb42e90992a65aa266555a3137d0d"
   }
  }
 },
 "nbformat": 4,
 "nbformat_minor": 2
}
