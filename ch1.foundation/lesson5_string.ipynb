{
 "cells": [
  {
   "cell_type": "code",
   "execution_count": 1,
   "metadata": {},
   "outputs": [
    {
     "name": "stdout",
     "output_type": "stream",
     "text": [
      "Hello String\n"
     ]
    }
   ],
   "source": [
    "# U can combine two strings by near them\n",
    "a = \"Hello \" 'String'\n",
    "print(a)\n"
   ]
  },
  {
   "cell_type": "code",
   "execution_count": 3,
   "metadata": {},
   "outputs": [
    {
     "name": "stdout",
     "output_type": "stream",
     "text": [
      "Hello String!\n"
     ]
    }
   ],
   "source": [
    "# Or U can use + signal\n",
    "s = \"Hello \" + 'String!'\n",
    "print(s)"
   ]
  },
  {
   "cell_type": "code",
   "execution_count": 4,
   "metadata": {},
   "outputs": [
    {
     "ename": "TypeError",
     "evalue": "can only concatenate str (not \"int\") to str",
     "output_type": "error",
     "traceback": [
      "\u001b[0;31m---------------------------------------------------------------------------\u001b[0m",
      "\u001b[0;31mTypeError\u001b[0m                                 Traceback (most recent call last)",
      "Cell \u001b[0;32mIn[4], line 2\u001b[0m\n\u001b[1;32m      1\u001b[0m \u001b[39m# U can't combine str with other type values\u001b[39;00m\n\u001b[0;32m----> 2\u001b[0m new_str \u001b[39m=\u001b[39m \u001b[39m\"\u001b[39;49m\u001b[39mI\u001b[39;49m\u001b[39m'\u001b[39;49m\u001b[39mm \u001b[39;49m\u001b[39m\"\u001b[39;49m \u001b[39m+\u001b[39;49m \u001b[39m42\u001b[39;49m \u001b[39m+\u001b[39m \u001b[39m\"\u001b[39m\u001b[39myears old\u001b[39m\u001b[39m\"\u001b[39m\n",
      "\u001b[0;31mTypeError\u001b[0m: can only concatenate str (not \"int\") to str"
     ]
    }
   ],
   "source": [
    "# U can't combine str with other type values\n",
    "new_str = \"I'm \" + 42 + \"years old\""
   ]
  },
  {
   "cell_type": "code",
   "execution_count": 11,
   "metadata": {},
   "outputs": [
    {
     "name": "stdout",
     "output_type": "stream",
     "text": [
      "I'm 42 years old\n",
      "I'm 42 years old\n"
     ]
    }
   ],
   "source": [
    "# U need convert other value to str the link to str, for convert other type to str, can use str(value), repr(value)\n",
    "new_str = \"I'm \" + str(42) + \" years old\"\n",
    "print(new_str)\n",
    "new_str = \"I'm \" + repr(42) + \" years old\"\n",
    "print(new_str)"
   ]
  },
  {
   "cell_type": "code",
   "execution_count": 13,
   "metadata": {},
   "outputs": [
    {
     "name": "stdout",
     "output_type": "stream",
     "text": [
      "Hi, I'm {'name': 'Tom', 'age': 42}\n",
      "Hi, I'm {'name': 'Tom', 'age': 42}\n"
     ]
    }
   ],
   "source": [
    "tom = dict({\"name\": \"Tom\", \"age\": 42})\n",
    "print(\"Hi, I'm \" + str(tom))\n",
    "print(\"Hi, I'm \" + repr(tom))\n"
   ]
  },
  {
   "cell_type": "code",
   "execution_count": 16,
   "metadata": {},
   "outputs": [
    {
     "name": "stdout",
     "output_type": "stream",
     "text": [
      "1\n"
     ]
    },
    {
     "ename": "NameError",
     "evalue": "name 'long' is not defined",
     "output_type": "error",
     "traceback": [
      "\u001b[0;31m---------------------------------------------------------------------------\u001b[0m",
      "\u001b[0;31mNameError\u001b[0m                                 Traceback (most recent call last)",
      "Cell \u001b[0;32mIn[16], line 3\u001b[0m\n\u001b[1;32m      1\u001b[0m \u001b[39m# Actually, str is a type like int, float, bool, but rept is only a function.\u001b[39;00m\n\u001b[1;32m      2\u001b[0m \u001b[39mprint\u001b[39m(\u001b[39mint\u001b[39m(\u001b[39m1\u001b[39m))\n\u001b[0;32m----> 3\u001b[0m \u001b[39mprint\u001b[39m(long(\u001b[39m1\u001b[39m))\n\u001b[1;32m      4\u001b[0m \u001b[39mprint\u001b[39m(\u001b[39mfloat\u001b[39m(\u001b[39m2\u001b[39m))\n\u001b[1;32m      5\u001b[0m \u001b[39mprint\u001b[39m(\u001b[39mbool\u001b[39m(\u001b[39m'\u001b[39m\u001b[39ma\u001b[39m\u001b[39m'\u001b[39m))\n",
      "\u001b[0;31mNameError\u001b[0m: name 'long' is not defined"
     ]
    }
   ],
   "source": [
    "# Actually, str is a type like int, float, bool, but rept is only a function.\n",
    "print(int(1))\n",
    "print(float(2))\n",
    "print(bool('a'))"
   ]
  },
  {
   "cell_type": "code",
   "execution_count": null,
   "metadata": {},
   "outputs": [],
   "source": [
    "# python use unicode encode string, so it support multi-language.\n",
    "print(\"hi，你好\")"
   ]
  },
  {
   "cell_type": "code",
   "execution_count": 21,
   "metadata": {},
   "outputs": [
    {
     "name": "stdout",
     "output_type": "stream",
     "text": [
      "20320\n",
      "97\n"
     ]
    }
   ],
   "source": [
    "# you can use ord() function to get the ordinal value of the character\n",
    "# ord() can get any character's unicode code, remember, don't use it to a string\n",
    "print(ord('你'))\n",
    "print(ord(\"a\"))"
   ]
  },
  {
   "cell_type": "code",
   "execution_count": 26,
   "metadata": {},
   "outputs": [
    {
     "name": "stdout",
     "output_type": "stream",
     "text": [
      "a\n"
     ]
    },
    {
     "data": {
      "text/plain": [
       "'文'"
      ]
     },
     "execution_count": 26,
     "metadata": {},
     "output_type": "execute_result"
    }
   ],
   "source": [
    "# U can use chr() function to get a character from a decimal\n",
    "c = chr(97)\n",
    "print(c)\n",
    "# unicode character, all python character is unicode character\n",
    "chr(25991)"
   ]
  },
  {
   "cell_type": "code",
   "execution_count": 25,
   "metadata": {},
   "outputs": [
    {
     "data": {
      "text/plain": [
       "'\\x97中文'"
      ]
     },
     "execution_count": 25,
     "metadata": {},
     "output_type": "execute_result"
    }
   ],
   "source": [
    "# you can use \\u to represent character, unicode\n",
    "'\\u4e2d\\u6587'"
   ]
  },
  {
   "cell_type": "code",
   "execution_count": 46,
   "metadata": {},
   "outputs": [
    {
     "name": "stdout",
     "output_type": "stream",
     "text": [
      "<class 'bytes'> b'ABC'\n",
      "b'ABC'\n",
      "b'\\xe4\\xb8\\xad\\xe6\\x96\\x87'\n"
     ]
    }
   ],
   "source": [
    "# any str can call their encode() function to encode to a bytes based on any charset.\n",
    "abc =  'ABC'.encode('ascii')\n",
    "print(type(abc), abc)\n",
    "abc =  'ABC'.encode('utf-8')\n",
    "print(abc)\n",
    "chinese = '中文'.encode('utf-8')\n",
    "print(chinese)"
   ]
  },
  {
   "cell_type": "code",
   "execution_count": 42,
   "metadata": {},
   "outputs": [
    {
     "name": "stdout",
     "output_type": "stream",
     "text": [
      "'ABC'\n"
     ]
    }
   ],
   "source": [
    "# call bytes' decode('charset') to transfer bytes to str\n",
    "ABC = b'ABC'.decode('ascii')\n",
    "print(repr(ABC))"
   ]
  },
  {
   "cell_type": "code",
   "execution_count": 47,
   "metadata": {},
   "outputs": [
    {
     "name": "stdout",
     "output_type": "stream",
     "text": [
      "b'\\xe4\\xb8\\xad\\xe6\\x96\\x87'\n",
      "中文\n"
     ]
    }
   ],
   "source": [
    "chinese = '中文'.encode('utf-8')\n",
    "print(chinese)\n",
    "chinese = b'\\xe4\\xb8\\xad\\xe6\\x96\\x87'.decode('utf-8')\n",
    "print(chinese)"
   ]
  },
  {
   "cell_type": "code",
   "execution_count": 55,
   "metadata": {},
   "outputs": [
    {
     "name": "stdout",
     "output_type": "stream",
     "text": [
      "Age: 25. Gender: True\n",
      "growth rate: 7 %\n"
     ]
    }
   ],
   "source": [
    "# U can always use %s\n",
    "print('Age: %s. Gender: %s' % (25, True))\n",
    "\n",
    "# if you need show a % in the string use %%, \\% is not work\n",
    "s = 'growth rate: %d %%' % 7\n",
    "print(s)\n"
   ]
  },
  {
   "cell_type": "code",
   "execution_count": 3,
   "metadata": {},
   "outputs": [
    {
     "name": "stdout",
     "output_type": "stream",
     "text": [
      "\"Hello,' World!\"\n",
      "Hello, World!\n"
     ]
    }
   ],
   "source": [
    "# repr\n",
    "print(repr('Hello,\\' World!'))"
   ]
  },
  {
   "attachments": {},
   "cell_type": "markdown",
   "metadata": {},
   "source": [
    "### Unicode, bytes, bytearray"
   ]
  },
  {
   "cell_type": "code",
   "execution_count": 19,
   "metadata": {},
   "outputs": [
    {
     "name": "stdout",
     "output_type": "stream",
     "text": [
      "Æ\n",
      "😊\n",
      "\tGood job, well done ✅\n"
     ]
    }
   ],
   "source": [
    "# using unicode str, actually, every Python str is a unicode string now.\n",
    "\n",
    "# Python3 are using unicode during all str, this 129 char systems in unicode, and over 120k letters for each system\n",
    "# \\u for 16bits unicode\n",
    "uc = \"\\u00C6\"\n",
    "print(uc)\n",
    "# \\U for 32bits unicode\n",
    "uc32 = \"\\U0001F60A\"\n",
    "print(uc32)\n",
    "# \\N{name} for named unicode char\n",
    "print(\"\\tGood job, well done \\N{White Heavy Check Mark}\")\n",
    "# see all unicode in https://unicode-table.com/"
   ]
  },
  {
   "cell_type": "code",
   "execution_count": 3,
   "metadata": {},
   "outputs": [
    {
     "name": "stdout",
     "output_type": "stream",
     "text": [
      "b'Hello, world!'\n",
      "b'Hello, world!'\n",
      "b'\\xff\\xfeH\\x00e\\x00l\\x00l\\x00o\\x00,\\x00 \\x00w\\x00o\\x00r\\x00l\\x00d\\x00!\\x00'\n",
      "b'\\xff\\xfe\\x00\\x00H\\x00\\x00\\x00e\\x00\\x00\\x00l\\x00\\x00\\x00l\\x00\\x00\\x00o\\x00\\x00\\x00,\\x00\\x00\\x00 \\x00\\x00\\x00w\\x00\\x00\\x00o\\x00\\x00\\x00r\\x00\\x00\\x00l\\x00\\x00\\x00d\\x00\\x00\\x00!\\x00\\x00\\x00'\n"
     ]
    }
   ],
   "source": [
    "# bytes are used for transfer data\n",
    "# different way to transfer string to bytes, ascii(8bits), utf-8(8bits), utf-16(16bits, 2bytes),utf-32(32bits, 4bytes)\n",
    "b = \"Hello, world!\".encode(\"ASCII\")\n",
    "print(b)\n",
    "b = \"Hello, world!\".encode(\"utf-8\")\n",
    "print(b)\n",
    "b = \"Hello, world!\".encode(\"utf-16\")\n",
    "print(b)\n",
    "b = \"Hello, world!\".encode(\"utf-32\")\n",
    "print(b)"
   ]
  },
  {
   "cell_type": "code",
   "execution_count": 4,
   "metadata": {},
   "outputs": [
    {
     "ename": "TypeError",
     "evalue": "'bytes' object does not support item assignment",
     "output_type": "error",
     "traceback": [
      "\u001b[0;31m---------------------------------------------------------------------------\u001b[0m",
      "\u001b[0;31mTypeError\u001b[0m                                 Traceback (most recent call last)",
      "Cell \u001b[0;32mIn[4], line 3\u001b[0m\n\u001b[1;32m      1\u001b[0m \u001b[39m# bytes is immutable\u001b[39;00m\n\u001b[1;32m      2\u001b[0m b \u001b[39m=\u001b[39m \u001b[39m\"\u001b[39m\u001b[39mHello, world!\u001b[39m\u001b[39m\"\u001b[39m\u001b[39m.\u001b[39mencode(\u001b[39m\"\u001b[39m\u001b[39mutf-8\u001b[39m\u001b[39m\"\u001b[39m)\n\u001b[0;32m----> 3\u001b[0m b[\u001b[39m1\u001b[39;49m] \u001b[39m=\u001b[39m \u001b[39mb\u001b[39m\u001b[39m'\u001b[39m\u001b[39mu\u001b[39m\u001b[39m'\u001b[39m\n",
      "\u001b[0;31mTypeError\u001b[0m: 'bytes' object does not support item assignment"
     ]
    }
   ],
   "source": [
    "# bytes is immutable\n",
    "b = \"Hello, world!\".encode(\"utf-8\")\n",
    "b[1] = b'u'"
   ]
  },
  {
   "cell_type": "code",
   "execution_count": 5,
   "metadata": {},
   "outputs": [
    {
     "ename": "TypeError",
     "evalue": "'bytes' object cannot be interpreted as an integer",
     "output_type": "error",
     "traceback": [
      "\u001b[0;31m---------------------------------------------------------------------------\u001b[0m",
      "\u001b[0;31mTypeError\u001b[0m                                 Traceback (most recent call last)",
      "Cell \u001b[0;32mIn[5], line 4\u001b[0m\n\u001b[1;32m      2\u001b[0m b \u001b[39m=\u001b[39m \u001b[39m\"\u001b[39m\u001b[39mHello, world!\u001b[39m\u001b[39m\"\u001b[39m\u001b[39m.\u001b[39mencode(\u001b[39m\"\u001b[39m\u001b[39mutf-8\u001b[39m\u001b[39m\"\u001b[39m)\n\u001b[1;32m      3\u001b[0m ba \u001b[39m=\u001b[39m \u001b[39mbytearray\u001b[39m(b)\n\u001b[0;32m----> 4\u001b[0m ba[\u001b[39m1\u001b[39;49m] \u001b[39m=\u001b[39m \u001b[39mb\u001b[39m\u001b[39m'\u001b[39m\u001b[39mu\u001b[39m\u001b[39m'\u001b[39m\n\u001b[1;32m      5\u001b[0m \u001b[39mprint\u001b[39m(ba)\n",
      "\u001b[0;31mTypeError\u001b[0m: 'bytes' object cannot be interpreted as an integer"
     ]
    }
   ],
   "source": [
    "# bytearray can be changing, every element assigned must be ordinal value\n",
    "b = \"Hello, world!\".encode(\"utf-8\")\n",
    "ba = bytearray(b)\n",
    "ba[1] = b'u'\n",
    "print(ba)"
   ]
  },
  {
   "cell_type": "code",
   "execution_count": 6,
   "metadata": {},
   "outputs": [
    {
     "name": "stdout",
     "output_type": "stream",
     "text": [
      "bytearray(b'Hullo, world!')\n"
     ]
    }
   ],
   "source": [
    "b = \"Hello, world!\".encode(\"utf-8\")\n",
    "ba = bytearray(b)\n",
    "ba[1] = ord('u')\n",
    "print(ba)"
   ]
  },
  {
   "cell_type": "code",
   "execution_count": 14,
   "metadata": {},
   "outputs": [
    {
     "name": "stdout",
     "output_type": "stream",
     "text": [
      "bytearray(b'Huuuo, world!')\n"
     ]
    }
   ],
   "source": [
    "# slice for bytearray\n",
    "b = \"Hello, world!\".encode(\"utf-8\")\n",
    "ba = bytearray(b)\n",
    "ba[1:4] = [ord('u')] * 3\n",
    "print(ba)"
   ]
  }
 ],
 "metadata": {
  "kernelspec": {
   "display_name": "Python 3.10.6 ('base')",
   "language": "python",
   "name": "python3"
  },
  "language_info": {
   "codemirror_mode": {
    "name": "ipython",
    "version": 3
   },
   "file_extension": ".py",
   "mimetype": "text/x-python",
   "name": "python",
   "nbconvert_exporter": "python",
   "pygments_lexer": "ipython3",
   "version": "3.10.6"
  },
  "orig_nbformat": 4,
  "vscode": {
   "interpreter": {
    "hash": "c6e4e9f98eb68ad3b7c296f83d20e6de614cb42e90992a65aa266555a3137d0d"
   }
  }
 },
 "nbformat": 4,
 "nbformat_minor": 2
}
