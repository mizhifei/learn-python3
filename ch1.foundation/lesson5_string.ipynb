{
 "cells": [
  {
   "cell_type": "code",
   "execution_count": 1,
   "metadata": {},
   "outputs": [
    {
     "name": "stdout",
     "output_type": "stream",
     "text": [
      "Hello String\n"
     ]
    }
   ],
   "source": [
    "# U can combine two strings by near them\n",
    "a = \"Hello \" 'String'\n",
    "print(a)\n"
   ]
  },
  {
   "cell_type": "code",
   "execution_count": 3,
   "metadata": {},
   "outputs": [
    {
     "name": "stdout",
     "output_type": "stream",
     "text": [
      "Hello String!\n"
     ]
    }
   ],
   "source": [
    "# Or U can use + signal\n",
    "s = \"Hello \" + 'String!'\n",
    "print(s)"
   ]
  },
  {
   "cell_type": "code",
   "execution_count": 4,
   "metadata": {},
   "outputs": [
    {
     "ename": "TypeError",
     "evalue": "can only concatenate str (not \"int\") to str",
     "output_type": "error",
     "traceback": [
      "\u001b[0;31m---------------------------------------------------------------------------\u001b[0m",
      "\u001b[0;31mTypeError\u001b[0m                                 Traceback (most recent call last)",
      "Cell \u001b[0;32mIn[4], line 2\u001b[0m\n\u001b[1;32m      1\u001b[0m \u001b[39m# U can't combine str with other type values\u001b[39;00m\n\u001b[0;32m----> 2\u001b[0m new_str \u001b[39m=\u001b[39m \u001b[39m\"\u001b[39;49m\u001b[39mI\u001b[39;49m\u001b[39m'\u001b[39;49m\u001b[39mm \u001b[39;49m\u001b[39m\"\u001b[39;49m \u001b[39m+\u001b[39;49m \u001b[39m42\u001b[39;49m \u001b[39m+\u001b[39m \u001b[39m\"\u001b[39m\u001b[39myears old\u001b[39m\u001b[39m\"\u001b[39m\n",
      "\u001b[0;31mTypeError\u001b[0m: can only concatenate str (not \"int\") to str"
     ]
    }
   ],
   "source": [
    "# U can't combine str with other type values\n",
    "new_str = \"I'm \" + 42 + \"years old\""
   ]
  },
  {
   "cell_type": "code",
   "execution_count": 11,
   "metadata": {},
   "outputs": [
    {
     "name": "stdout",
     "output_type": "stream",
     "text": [
      "I'm 42 years old\n",
      "I'm 42 years old\n"
     ]
    }
   ],
   "source": [
    "# U need convert other value to str the link to str, for convert other type to str, can use str(value), repr(value)\n",
    "new_str = \"I'm \" + str(42) + \" years old\"\n",
    "print(new_str)\n",
    "new_str = \"I'm \" + repr(42) + \" years old\"\n",
    "print(new_str)"
   ]
  },
  {
   "cell_type": "code",
   "execution_count": 13,
   "metadata": {},
   "outputs": [
    {
     "name": "stdout",
     "output_type": "stream",
     "text": [
      "Hi, I'm {'name': 'Tom', 'age': 42}\n",
      "Hi, I'm {'name': 'Tom', 'age': 42}\n"
     ]
    }
   ],
   "source": [
    "tom = dict({\"name\": \"Tom\", \"age\": 42})\n",
    "print(\"Hi, I'm \" + str(tom))\n",
    "print(\"Hi, I'm \" + repr(tom))\n"
   ]
  },
  {
   "cell_type": "code",
   "execution_count": 16,
   "metadata": {},
   "outputs": [
    {
     "name": "stdout",
     "output_type": "stream",
     "text": [
      "1\n"
     ]
    },
    {
     "ename": "NameError",
     "evalue": "name 'long' is not defined",
     "output_type": "error",
     "traceback": [
      "\u001b[0;31m---------------------------------------------------------------------------\u001b[0m",
      "\u001b[0;31mNameError\u001b[0m                                 Traceback (most recent call last)",
      "Cell \u001b[0;32mIn[16], line 3\u001b[0m\n\u001b[1;32m      1\u001b[0m \u001b[39m# Actually, str is a type like int, float, bool, but rept is only a function.\u001b[39;00m\n\u001b[1;32m      2\u001b[0m \u001b[39mprint\u001b[39m(\u001b[39mint\u001b[39m(\u001b[39m1\u001b[39m))\n\u001b[0;32m----> 3\u001b[0m \u001b[39mprint\u001b[39m(long(\u001b[39m1\u001b[39m))\n\u001b[1;32m      4\u001b[0m \u001b[39mprint\u001b[39m(\u001b[39mfloat\u001b[39m(\u001b[39m2\u001b[39m))\n\u001b[1;32m      5\u001b[0m \u001b[39mprint\u001b[39m(\u001b[39mbool\u001b[39m(\u001b[39m'\u001b[39m\u001b[39ma\u001b[39m\u001b[39m'\u001b[39m))\n",
      "\u001b[0;31mNameError\u001b[0m: name 'long' is not defined"
     ]
    }
   ],
   "source": [
    "# Actually, str is a type like int, float, bool, but rept is only a function.\n",
    "print(int(1))\n",
    "print(float(2))\n",
    "print(bool('a'))"
   ]
  }
 ],
 "metadata": {
  "kernelspec": {
   "display_name": "Python 3.10.6 ('base')",
   "language": "python",
   "name": "python3"
  },
  "language_info": {
   "codemirror_mode": {
    "name": "ipython",
    "version": 3
   },
   "file_extension": ".py",
   "mimetype": "text/x-python",
   "name": "python",
   "nbconvert_exporter": "python",
   "pygments_lexer": "ipython3",
   "version": "3.10.6"
  },
  "orig_nbformat": 4,
  "vscode": {
   "interpreter": {
    "hash": "c6e4e9f98eb68ad3b7c296f83d20e6de614cb42e90992a65aa266555a3137d0d"
   }
  }
 },
 "nbformat": 4,
 "nbformat_minor": 2
}
