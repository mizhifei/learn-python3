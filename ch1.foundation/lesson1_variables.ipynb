{
 "cells": [
  {
   "cell_type": "code",
   "execution_count": 1,
   "metadata": {},
   "outputs": [
    {
     "name": "stdout",
     "output_type": "stream",
     "text": [
      "1000000000000000000000000000000000000000000000000000000000000000\n"
     ]
    }
   ],
   "source": [
    "# integer\n",
    "# Python can deal with any integer no matter its scale\n",
    "num1 = 1000000000000000000000000000000000000000000000000000000000000000\n",
    "print(num1)\n"
   ]
  },
  {
   "cell_type": "code",
   "execution_count": 9,
   "metadata": {},
   "outputs": [
    {
     "name": "stdout",
     "output_type": "stream",
     "text": [
      "630432099142311667396464641602297820881275828327447146687172694467931548343955369782628260078158650252906047844909055\n",
      "63\n",
      "3\n"
     ]
    }
   ],
   "source": [
    "# Python also can deal with hex decimal\n",
    "num2 = 0xFFFFFFFFFFFFFFFFFFFFFFFFFFFFFFFFFFFFFFFFFFFFFFFFFFFFFFFFFFFFFFFFFFFFFFFFFFFFFFFFFFFFFFFFFFFFFFFFF\n",
    "print(num2)\n",
    "# And octal decimal\n",
    "num3= 0o77\n",
    "print(num3)\n",
    "# And binary decimal\n",
    "num4= 0b11\n",
    "print(num4)\n"
   ]
  },
  {
   "cell_type": "code",
   "execution_count": 1,
   "metadata": {},
   "outputs": [
    {
     "name": "stdout",
     "output_type": "stream",
     "text": [
      "True\n",
      "1.12e+36\n",
      "10.0\n"
     ]
    }
   ],
   "source": [
    "# float, integer part can be drop if it's zero\n",
    "f1 = .4567\n",
    "print(f1 == 0.4567)\n",
    "# Python variables also can take E-notation float, e is based on 10\n",
    "f2 = 112e34\n",
    "print(f2)\n",
    "f2 = 112e34\n",
    "print(1e1)\n"
   ]
  },
  {
   "cell_type": "code",
   "execution_count": 4,
   "metadata": {},
   "outputs": [
    {
     "name": "stdout",
     "output_type": "stream",
     "text": [
      "True\n"
     ]
    }
   ],
   "source": [
    "# string\n",
    "# Python string can either use single or double quotation marks\n",
    "str1 = \"Hello World\"\n",
    "str2 = \"Hello World\"\n",
    "print(str1 == str2)\n"
   ]
  },
  {
   "cell_type": "code",
   "execution_count": 22,
   "metadata": {},
   "outputs": [
    {
     "name": "stdout",
     "output_type": "stream",
     "text": [
      "True\n",
      "\\t你好👋\n",
      "\t你好👋\n"
     ]
    }
   ],
   "source": [
    "# if you need to include quotation marks inner string, you can use single quotation between a pair of double quotation marks, \n",
    "# or use double quotation between a pair of single quotation marks, otherwise, you can use \\, such as \\' or \\\"\n",
    "str3 = 'Hello, I\\'m Tom.'\n",
    "str4 = \"Hello, I'm Tom.\"\n",
    "print(str3 == str4)"
   ]
  },
  {
   "cell_type": "code",
   "execution_count": 7,
   "metadata": {},
   "outputs": [
    {
     "name": "stdout",
     "output_type": "stream",
     "text": [
      "\\t你好👋\n"
     ]
    }
   ],
   "source": [
    "\n",
    "# if you wanna keep the \\ you also can use r'' to remain the origin string witch contains \\, or use ``\n",
    "print(r\"\\t你好👋\")"
   ]
  },
  {
   "cell_type": "code",
   "execution_count": 6,
   "metadata": {},
   "outputs": [
    {
     "name": "stdout",
     "output_type": "stream",
     "text": [
      "line 1\n",
      "line 2\n",
      "line 3\n",
      "line 1 line 2 line 3\n"
     ]
    }
   ],
   "source": [
    "# if u have many lines in one string, u can use '''some string'''\n",
    "print(\n",
    "    \"\"\"line 1\n",
    "line 2\n",
    "line 3\"\"\"\n",
    ")\n",
    "# U also can use \\ to represent multiline str, you can see the different\n",
    "print(\n",
    "    \"line 1 \\\n",
    "line 2 \\\n",
    "line 3\"\n",
    ")\n"
   ]
  },
  {
   "cell_type": "code",
   "execution_count": 7,
   "metadata": {},
   "outputs": [
    {
     "name": "stdout",
     "output_type": "stream",
     "text": [
      "True\n",
      "True\n",
      "False\n",
      "True\n"
     ]
    }
   ],
   "source": [
    "# boolean, Python has two variables for boolean, True and False\n",
    "bool1 = True\n",
    "bool2 = True\n",
    "print(bool1 == bool2)  # True\n",
    "bool3 = False\n",
    "bool4 = False\n",
    "print(bool3 == bool4)  # True\n",
    "print(bool1 == bool3)  # False\n",
    "print(bool1 != bool3)  # True\n"
   ]
  },
  {
   "cell_type": "code",
   "execution_count": 8,
   "metadata": {},
   "outputs": [
    {
     "name": "stdout",
     "output_type": "stream",
     "text": [
      "False\n",
      "True\n",
      "False\n"
     ]
    }
   ],
   "source": [
    "# boolean operations, you can only use and, or, not to operate boolean value.\n",
    "print(True and False)  # False\n",
    "print(False or True)  # True\n",
    "print(not True)  # False\n"
   ]
  },
  {
   "cell_type": "code",
   "execution_count": 9,
   "metadata": {},
   "outputs": [
    {
     "name": "stdout",
     "output_type": "stream",
     "text": [
      "None\n"
     ]
    }
   ],
   "source": [
    "# None, None is not zero\n",
    "print(None)\n"
   ]
  },
  {
   "cell_type": "code",
   "execution_count": 10,
   "metadata": {},
   "outputs": [],
   "source": [
    "# variables' name should only contain letters, numbers, and underline(_), and can't start with a number(1number can't be a variable's name)\n",
    "number_1 = 1\n",
    "number_2 = 2\n",
    "# illegal variable name\n",
    "# incorrect_name@#$:; = 123\n"
   ]
  },
  {
   "cell_type": "code",
   "execution_count": 11,
   "metadata": {},
   "outputs": [],
   "source": [
    "# python variables are dynamic, and you can change their at value any time, to any type.\n",
    "a = \"this is a\"\n",
    "a = 97\n",
    "a = True\n"
   ]
  },
  {
   "cell_type": "code",
   "execution_count": 12,
   "metadata": {},
   "outputs": [],
   "source": [
    "# constants, Python uses the variable name whose letters are all capitalized to signify constant\n",
    "PI = 3.14159265359\n",
    "# this is just a common guideline, you can still change its value\n",
    "PI = 100\n"
   ]
  },
  {
   "cell_type": "code",
   "execution_count": 1,
   "metadata": {},
   "outputs": [
    {
     "ename": "NameError",
     "evalue": "name 'undefined_variable' is not defined",
     "output_type": "error",
     "traceback": [
      "\u001b[0;31m---------------------------------------------------------------------------\u001b[0m",
      "\u001b[0;31mNameError\u001b[0m                                 Traceback (most recent call last)",
      "Cell \u001b[0;32mIn[1], line 2\u001b[0m\n\u001b[1;32m      1\u001b[0m \u001b[39m# u can't use a undefined variable\u001b[39;00m\n\u001b[0;32m----> 2\u001b[0m \u001b[39mprint\u001b[39m(undefined_variable) \n",
      "\u001b[0;31mNameError\u001b[0m: name 'undefined_variable' is not defined"
     ]
    }
   ],
   "source": [
    "# u can't use a undefined variable\n",
    "print(undefined_variable) "
   ]
  }
 ],
 "metadata": {
  "kernelspec": {
   "display_name": "Python 3.10.6 ('base')",
   "language": "python",
   "name": "python3"
  },
  "language_info": {
   "codemirror_mode": {
    "name": "ipython",
    "version": 3
   },
   "file_extension": ".py",
   "mimetype": "text/x-python",
   "name": "python",
   "nbconvert_exporter": "python",
   "pygments_lexer": "ipython3",
   "version": "3.10.6 | packaged by conda-forge | (main, Aug 22 2022, 20:38:29) [Clang 13.0.1 ]"
  },
  "orig_nbformat": 4,
  "vscode": {
   "interpreter": {
    "hash": "c6e4e9f98eb68ad3b7c296f83d20e6de614cb42e90992a65aa266555a3137d0d"
   }
  }
 },
 "nbformat": 4,
 "nbformat_minor": 2
}
