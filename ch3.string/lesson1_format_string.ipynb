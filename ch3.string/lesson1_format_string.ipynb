{
 "cells": [
  {
   "cell_type": "code",
   "execution_count": 7,
   "metadata": {},
   "outputs": [
    {
     "name": "stdout",
     "output_type": "stream",
     "text": [
      "Hello, world\n",
      "Hello, Python! I'm Tom\n",
      "Hello, Python! I'm Tom\n",
      "Hello, ['Python', 'Tom']!\n"
     ]
    }
   ],
   "source": [
    "# format string by %, only takes one value, or tuple of values, or dict of values\n",
    "a = \"Hello, %s\" % \"world\"\n",
    "print(a)\n",
    "\n",
    "# tuple of values\n",
    "v = (\"Python\", \"Tom\")\n",
    "b = \"Hello, %s! I'm %s\" % v\n",
    "print(b)\n",
    "\n",
    "\n",
    "# dict of values, keys are the index\n",
    "d = {1: \"Python\", 2: \"Tom\"}\n",
    "c = \"Hello, %s! I'm %s\" % v\n",
    "print(c)\n",
    "\n",
    "\n",
    "# if use list, it will be taken as one value, and template string can only contains one %s\n",
    "l = [\"Python\", \"Tom\"]\n",
    "m = \"Hello, %s!\" % l\n",
    "print(m)\n"
   ]
  },
  {
   "cell_type": "code",
   "execution_count": 26,
   "metadata": {},
   "outputs": [
    {
     "name": "stdout",
     "output_type": "stream",
     "text": [
      "Hi, Tom, you have $1000000.\n",
      "fill with 10 space:         3, fill with 10 zero:0000000001\n",
      "fill with 10 space:3         , fill with 10 zero:0000000001\n",
      "        10\n",
      "       -10\n",
      "  +10\n",
      "  -10\n",
      "3.1416\n"
     ]
    }
   ],
   "source": [
    "# %s is called conversion specifier\n",
    "b = 'Hi, %s, you have $%d.' % ('Tom', 1000000)\n",
    "print(b)\n",
    "# specifier    type\n",
    "# %d,%i\t10-based signed integer\n",
    "# %u\t10-based unsigned integer\n",
    "# %f,%F\tfloat\n",
    "# %e\tscience number float\n",
    "# %E\tscience capitalized number float\n",
    "# %r\trepr() string\n",
    "# %s\tstr() string\n",
    "# %C\tcharacter\n",
    "# %o\tord decimal\n",
    "# %x\thex decimal\n",
    "# %X\thex decimal, Capitalized\n",
    "\n",
    "# fix wide & fix wide and fill 0\n",
    "print('fill with 10 space:%10d, fill with 10 zero:%010d' % (3, 1))\n",
    "# - fix wide and ident left\n",
    "print('fill with 10 space:%-10d, fill with 10 zero:%010d' % (3, 1))\n",
    "\n",
    "\n",
    "# \" \" fill space before positive number, usually used for beautify signed number\n",
    "print('% 10d' % 10)\n",
    "print('% 10d' % -10)\n",
    "\n",
    "# + always show the sign before number\n",
    "print('%+5d' % 10)\n",
    "print('%+5d' % -10)\n",
    "\n",
    "# accurate to decimal places\n",
    "print('%.4f' % 3.1415926)"
   ]
  },
  {
   "cell_type": "code",
   "execution_count": 22,
   "metadata": {},
   "outputs": [
    {
     "name": "stdout",
     "output_type": "stream",
     "text": [
      "Hi, 12345\n"
     ]
    }
   ],
   "source": [
    "# accurate specifier can be place *, it will takes number from values tuple\n",
    "b = 'Hi, %.*s' % (5, 123456789)\n",
    "print(b)"
   ]
  },
  {
   "cell_type": "code",
   "execution_count": 13,
   "metadata": {},
   "outputs": [
    {
     "name": "stdout",
     "output_type": "stream",
     "text": [
      "slurm, glorious slurm!\n",
      "It's slurmtastic!\n",
      "Make $ selling slurm!\n",
      "slurm is $b\n"
     ]
    }
   ],
   "source": [
    "# format string by using Temple\n",
    "from string import Template\n",
    "s = Template(\"$x, glorious $x!\")\n",
    "print(s.substitute(x='slurm'))\n",
    "\n",
    "s = Template(\"It's ${x}tastic!\")\n",
    "print(s.substitute(x='slurm'))\n",
    "\n",
    "# use $$ in string to present $\n",
    "s = Template(\"Make $$ selling ${x}!\")\n",
    "print(s.substitute(x='slurm'))\n",
    "\n",
    "# use dict to formatting template\n",
    "s = Template(\"$a is $b\")\n",
    "d = {}\n",
    "d['a'] = 'slurm'\n",
    "# d[\"b\"] = \"glorious\"\n",
    "print(s.safe_substitute(d))"
   ]
  },
  {
   "cell_type": "code",
   "execution_count": 2,
   "metadata": {},
   "outputs": [
    {
     "name": "stdout",
     "output_type": "stream",
     "text": [
      "one, two and three\n"
     ]
    }
   ],
   "source": [
    "# format() method\n",
    "s = \"{}, {} and {}\".format(\"one\", \"two\", \"three\")\n",
    "print(s)"
   ]
  },
  {
   "cell_type": "code",
   "execution_count": 49,
   "metadata": {},
   "outputs": [
    {
     "name": "stdout",
     "output_type": "stream",
     "text": [
      "One googol is 10,000,000,000,000,000,000,000,000,000,000,000,000,000,000,000,000,000,000,000,000,000,000,000,000,000,000,000,000,000,000,000,000,000\n",
      " 3.12\n",
      "0000003.12\n",
      "3.12      \n",
      "   3.12   \n",
      "      3.12\n",
      "      3.12\n",
      "-     3.12\n",
      "1010\n",
      "0b1010\n",
      "10.0000\n",
      "0o12\n",
      "0xa\n"
     ]
    }
   ],
   "source": [
    "# mini-language\n",
    "s = \"One googol is {:,}\".format(10**100)\n",
    "print(s)\n",
    "# add blank\n",
    "print(\"{: .2f}\".format(3.123456789))\n",
    "print(\"{:010.2f}\".format(3.123456789))\n",
    "# < left agin \n",
    "print(\"{:<10.2f}\".format(3.123456789))\n",
    "# ^ middle agin\n",
    "print(\"{:^10.2f}\".format(3.123456789))\n",
    "# > right agin\n",
    "print(\"{:>10.2f}\".format(3.123456789))\n",
    "# default right agin\n",
    "print(\"{:10.2f}\".format(3.123456789))\n",
    "# = fill char between sign and decimal\n",
    "print(\"{:=10.2f}\".format(-3.123456789))\n",
    "# binary\n",
    "print(\"{:b}\".format(10))\n",
    "# binary\n",
    "print(\"{:#b}\".format(10))\n",
    "# 10\n",
    "print(\"{:#g}\".format(10))\n",
    "# 8\n",
    "print(\"{:#o}\".format(10))\n",
    "# 16\n",
    "print(\"{:#x}\".format(10))"
   ]
  },
  {
   "cell_type": "code",
   "execution_count": 27,
   "metadata": {},
   "outputs": [
    {
     "name": "stdout",
     "output_type": "stream",
     "text": [
      "$$$$ TITLE $$$$\n"
     ]
    }
   ],
   "source": [
    "# middle agin & fill\n",
    "print(\"{:$^15}\".format(\" TITLE \"))"
   ]
  },
  {
   "cell_type": "code",
   "execution_count": null,
   "metadata": {},
   "outputs": [],
   "source": []
  },
  {
   "cell_type": "code",
   "execution_count": 6,
   "metadata": {},
   "outputs": [
    {
     "name": "stdout",
     "output_type": "stream",
     "text": [
      "to be to or to not\n",
      "Hello, Tom, your grades improved 17.12%\n"
     ]
    }
   ],
   "source": [
    "# format() method with index\n",
    "s = \"{3} {0} {3} {2} {3} {1}\".format(\"be\", \"not\", \"or\", \"to\")\n",
    "print(s)\n",
    "\n",
    "a = 'Hello, {0}, your grades improved {1:.2f}%'.format('Tom', 17.125)\n",
    "print(a)"
   ]
  },
  {
   "cell_type": "code",
   "execution_count": 11,
   "metadata": {},
   "outputs": [
    {
     "name": "stdout",
     "output_type": "stream",
     "text": [
      "Hello, Tom, your grades improved 17.12%\n"
     ]
    }
   ],
   "source": [
    "# format_map()\n",
    "\n",
    "s = 'Hello, {name}, your grades improved {score:.2f}%'.format_map({\"name\":'Tom', \"score\":17.125})\n",
    "print(s)"
   ]
  },
  {
   "cell_type": "code",
   "execution_count": 27,
   "metadata": {},
   "outputs": [
    {
     "name": "stdout",
     "output_type": "stream",
     "text": [
      "Hello, Tom, your grades improved 17.12%\n",
      "The area of a circle with radius 2.5 is 19.62\n"
     ]
    }
   ],
   "source": [
    "r = 2.5\n",
    "s = 3.14 * r ** 2\n",
    "print(f'The area of a circle with radius {r} is {s:.2f}')\n"
   ]
  },
  {
   "cell_type": "code",
   "execution_count": 1,
   "metadata": {},
   "outputs": [
    {
     "name": "stdout",
     "output_type": "stream",
     "text": [
      "===================================\n",
      "Item                          Price\n",
      "-----------------------------------\n",
      "Apples                         0.40\n",
      "Pears                          0.50\n",
      "Grape                          1.42\n",
      "Water Lemon                    1.12\n",
      "Strawberry                     3.20\n",
      "Cantaloupes                    1.50\n",
      "===================================\n"
     ]
    }
   ],
   "source": [
    "# practice\n",
    "\n",
    "width = int(input(\"Please enter width:\"))\n",
    "\n",
    "price_width = 10\n",
    "item_width = width - price_width\n",
    "\n",
    "header_format = '%-*s%*s'\n",
    "item_format = \"%-*s%*.2f\"\n",
    "\n",
    "print('=' * width)\n",
    "\n",
    "print(header_format % (item_width, \"Item\", price_width, 'Price'))\n",
    "\n",
    "print(\"-\" * width)\n",
    "\n",
    "print( item_format % (item_width, \"Apples\", price_width, 0.4))\n",
    "print( item_format % (item_width, \"Pears\", price_width, 0.5))\n",
    "print( item_format % (item_width, \"Grape\", price_width, 1.42))\n",
    "print( item_format % (item_width, \"Water Lemon\", price_width, 1.12))\n",
    "print( item_format % (item_width, \"Strawberry\", price_width, 3.2))\n",
    "print( item_format % (item_width, \"Cantaloupes\", price_width, 1.5))\n",
    "\n",
    "\n",
    "print('=' * width)\n"
   ]
  },
  {
   "cell_type": "code",
   "execution_count": null,
   "metadata": {},
   "outputs": [],
   "source": []
  }
 ],
 "metadata": {
  "kernelspec": {
   "display_name": "Python 3.10.6 ('base')",
   "language": "python",
   "name": "python3"
  },
  "language_info": {
   "codemirror_mode": {
    "name": "ipython",
    "version": 3
   },
   "file_extension": ".py",
   "mimetype": "text/x-python",
   "name": "python",
   "nbconvert_exporter": "python",
   "pygments_lexer": "ipython3",
   "version": "3.10.6"
  },
  "orig_nbformat": 4,
  "vscode": {
   "interpreter": {
    "hash": "c6e4e9f98eb68ad3b7c296f83d20e6de614cb42e90992a65aa266555a3137d0d"
   }
  }
 },
 "nbformat": 4,
 "nbformat_minor": 2
}
