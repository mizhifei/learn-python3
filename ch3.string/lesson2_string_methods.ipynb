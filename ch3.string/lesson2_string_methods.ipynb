{
 "cells": [
  {
   "cell_type": "code",
   "execution_count": 4,
   "metadata": {},
   "outputs": [
    {
     "name": "stdout",
     "output_type": "stream",
     "text": [
      "########Hello, world!#########\n"
     ]
    }
   ],
   "source": [
    "# center\n",
    "print(\"Hello, world!\".center(30, '#'))"
   ]
  },
  {
   "cell_type": "code",
   "execution_count": 4,
   "metadata": {},
   "outputs": [
    {
     "name": "stdout",
     "output_type": "stream",
     "text": [
      "7\n",
      "-1\n",
      "-1\n"
     ]
    }
   ],
   "source": [
    "# find, return index of substring, or -1 for not find\n",
    "s = \"Hello, Python, Hello, World!\"\n",
    "print(s.find(\"Python\"))\n",
    "print(s.find(\"Java\"))\n",
    "\n",
    "# limit search range\n",
    "print(s.find(\"Python\", 10, 15))"
   ]
  },
  {
   "cell_type": "code",
   "execution_count": 20,
   "metadata": {},
   "outputs": [
    {
     "name": "stdout",
     "output_type": "stream",
     "text": [
      "['Hello,', 'World!']\n",
      "['Hello,', 'World!']\n"
     ]
    }
   ],
   "source": [
    "# split\n",
    "print(\"Hello, World!\".split())\n",
    "print(\"Hello, World!\".split(\" \"))"
   ]
  },
  {
   "cell_type": "code",
   "execution_count": 2,
   "metadata": {},
   "outputs": [
    {
     "ename": "TypeError",
     "evalue": "str.join() takes exactly one argument (4 given)",
     "output_type": "error",
     "traceback": [
      "\u001b[0;31m---------------------------------------------------------------------------\u001b[0m",
      "\u001b[0;31mTypeError\u001b[0m                                 Traceback (most recent call last)",
      "Cell \u001b[0;32mIn[2], line 2\u001b[0m\n\u001b[1;32m      1\u001b[0m \u001b[39m# join, elements must all are str \u001b[39;00m\n\u001b[0;32m----> 2\u001b[0m \u001b[39mprint\u001b[39m(\u001b[39m'\u001b[39;49m\u001b[39m+\u001b[39;49m\u001b[39m'\u001b[39;49m\u001b[39m.\u001b[39;49mjoin(\u001b[39m\"\u001b[39;49m\u001b[39m1\u001b[39;49m\u001b[39m\"\u001b[39;49m, \u001b[39m\"\u001b[39;49m\u001b[39m2\u001b[39;49m\u001b[39m\"\u001b[39;49m, \u001b[39m\"\u001b[39;49m\u001b[39m3\u001b[39;49m\u001b[39m\"\u001b[39;49m, \u001b[39m\"\u001b[39;49m\u001b[39m4\u001b[39;49m\u001b[39m\"\u001b[39;49m,))\n\u001b[1;32m      4\u001b[0m \u001b[39mprint\u001b[39m(\u001b[39m'\u001b[39m\u001b[39m+\u001b[39m\u001b[39m'\u001b[39m\u001b[39m.\u001b[39mjoin(\u001b[39m1\u001b[39m, \u001b[39m2\u001b[39m, \u001b[39m3\u001b[39m, \u001b[39m4\u001b[39m,))\n",
      "\u001b[0;31mTypeError\u001b[0m: str.join() takes exactly one argument (4 given)"
     ]
    }
   ],
   "source": [
    "# join, elements must all are str \n",
    "print('+'.join(\"1\", \"2\", \"3\", \"4\",))\n",
    "\n",
    "print('+'.join(1, 2, 3, 4,))"
   ]
  },
  {
   "cell_type": "code",
   "execution_count": 39,
   "metadata": {},
   "outputs": [
    {
     "name": "stdout",
     "output_type": "stream",
     "text": [
      "hello, world!\n",
      "HELLO, WORLD!\n"
     ]
    }
   ],
   "source": [
    "# lower\n",
    "s = \"HELLO, WORLD!\"\n",
    "print(s.lower())\n",
    "print(s)\n"
   ]
  },
  {
   "cell_type": "code",
   "execution_count": 8,
   "metadata": {},
   "outputs": [
    {
     "name": "stdout",
     "output_type": "stream",
     "text": [
      "HELLO, WORLD!\n"
     ]
    }
   ],
   "source": [
    "# upper\n",
    "print(\"hello, world!\".upper())"
   ]
  },
  {
   "cell_type": "code",
   "execution_count": 14,
   "metadata": {},
   "outputs": [
    {
     "name": "stdout",
     "output_type": "stream",
     "text": [
      "Hello, World! I'M Tom\n",
      "Hello, World! I'm Tom\n"
     ]
    }
   ],
   "source": [
    "# title\n",
    "print(\"hello, world! i'm tom\".title())\n",
    "# something is wrong, fix it with string.capwords\n",
    "import string\n",
    "print(string.capwords(\"hello, world! i'm tom\"))"
   ]
  },
  {
   "cell_type": "code",
   "execution_count": 15,
   "metadata": {},
   "outputs": [
    {
     "name": "stdout",
     "output_type": "stream",
     "text": [
      "thezz ezz a test\n"
     ]
    }
   ],
   "source": [
    "# replace\n",
    "print('this is a test'.replace(\"is\", \"ezz\"))"
   ]
  },
  {
   "cell_type": "code",
   "execution_count": 24,
   "metadata": {},
   "outputs": [
    {
     "name": "stdout",
     "output_type": "stream",
     "text": [
      "strip\n",
      "trip\n"
     ]
    }
   ],
   "source": [
    "# strip\n",
    "print(\" strip \".strip())\n",
    "print(\" strip \".strip(\" s\"))"
   ]
  },
  {
   "cell_type": "code",
   "execution_count": 2,
   "metadata": {},
   "outputs": [
    {
     "name": "stdout",
     "output_type": "stream",
     "text": [
      "strip\n",
      "strip\n",
      "stri\n",
      "trip\n"
     ]
    }
   ],
   "source": [
    "# strip, lstrip\n",
    "\n",
    "print(\"strip \".rstrip())\n",
    "print(\" strip\".lstrip())\n",
    "\n",
    "print(\"strip \".rstrip(\"p \"))\n",
    "print(\" strip\".lstrip(\" s\"))\n"
   ]
  },
  {
   "cell_type": "code",
   "execution_count": 1,
   "metadata": {},
   "outputs": [
    {
     "name": "stdout",
     "output_type": "stream",
     "text": [
      "aa kk zz kk zz\n"
     ]
    }
   ],
   "source": [
    "# translate\n",
    "x = ''\n",
    "s = 'aa cc ss kk zz'\n",
    "t = str.maketrans(\"cs\", 'kz')\n",
    "print(s.translate(t))"
   ]
  }
 ],
 "metadata": {
  "kernelspec": {
   "display_name": "Python 3.10.6 ('base')",
   "language": "python",
   "name": "python3"
  },
  "language_info": {
   "codemirror_mode": {
    "name": "ipython",
    "version": 3
   },
   "file_extension": ".py",
   "mimetype": "text/x-python",
   "name": "python",
   "nbconvert_exporter": "python",
   "pygments_lexer": "ipython3",
   "version": "3.10.6 | packaged by conda-forge | (main, Aug 22 2022, 20:38:29) [Clang 13.0.1 ]"
  },
  "orig_nbformat": 4,
  "vscode": {
   "interpreter": {
    "hash": "c6e4e9f98eb68ad3b7c296f83d20e6de614cb42e90992a65aa266555a3137d0d"
   }
  }
 },
 "nbformat": 4,
 "nbformat_minor": 2
}
