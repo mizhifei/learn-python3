{
 "cells": [
  {
   "cell_type": "code",
   "execution_count": 1,
   "metadata": {},
   "outputs": [
    {
     "name": "stdout",
     "output_type": "stream",
     "text": [
      "{'Tom': 95, 'Bob': 75, 'Andy': 85}\n",
      "{'Tom': 95, 'Bob': 75, 'Andy': 85}\n",
      "True\n",
      "{'Tom': 95, 'Bob': 75, 'Andy': 85}\n",
      "True\n"
     ]
    }
   ],
   "source": [
    "# create dictionary, 2 ways\n",
    "d = {'Tom': 95, 'Bob': 75, 'Andy': 85}\n",
    "print(d)\n",
    "\n",
    "dd = dict([('Tom', 95), ( 'Bob', 75), ('Andy', 85)])\n",
    "print(dd)\n",
    "print(d == dd)\n",
    "\n",
    "\n",
    "ddd = dict(Tom=95, Bob=75, Andy= 85)\n",
    "print(ddd)\n",
    "print(d == ddd)"
   ]
  },
  {
   "cell_type": "code",
   "execution_count": 2,
   "metadata": {},
   "outputs": [
    {
     "name": "stdout",
     "output_type": "stream",
     "text": [
      "3\n"
     ]
    }
   ],
   "source": [
    "# len\n",
    "print(len(dd))"
   ]
  },
  {
   "cell_type": "code",
   "execution_count": 3,
   "metadata": {},
   "outputs": [
    {
     "name": "stdout",
     "output_type": "stream",
     "text": [
      "95\n"
     ]
    },
    {
     "ename": "KeyError",
     "evalue": "'Alice'",
     "output_type": "error",
     "traceback": [
      "\u001b[0;31m---------------------------------------------------------------------------\u001b[0m",
      "\u001b[0;31mKeyError\u001b[0m                                  Traceback (most recent call last)",
      "Cell \u001b[0;32mIn[3], line 3\u001b[0m\n\u001b[1;32m      1\u001b[0m \u001b[39m# access\u001b[39;00m\n\u001b[1;32m      2\u001b[0m \u001b[39mprint\u001b[39m(d[\u001b[39m'\u001b[39m\u001b[39mTom\u001b[39m\u001b[39m'\u001b[39m])\n\u001b[0;32m----> 3\u001b[0m \u001b[39mprint\u001b[39m(d[\u001b[39m'\u001b[39;49m\u001b[39mAlice\u001b[39;49m\u001b[39m'\u001b[39;49m])\n",
      "\u001b[0;31mKeyError\u001b[0m: 'Alice'"
     ]
    }
   ],
   "source": [
    "# access\n",
    "print(d['Tom'])\n",
    "print(d['Alice'])"
   ]
  },
  {
   "cell_type": "code",
   "execution_count": null,
   "metadata": {},
   "outputs": [],
   "source": [
    "# in\n",
    "if 'Alice' in d:\n",
    "    print(d['Alice'])"
   ]
  },
  {
   "cell_type": "code",
   "execution_count": null,
   "metadata": {},
   "outputs": [
    {
     "name": "stdout",
     "output_type": "stream",
     "text": [
      "{'Tom': 95, 'Bob': 75, 'Andy': 85}\n",
      "{'Tom': 95, 'Bob': 99, 'Andy': 85}\n",
      "{'Tom': 95, 'Bob': 99, 'Andy': 85, 'Adam': 67}\n"
     ]
    }
   ],
   "source": [
    "# assignment\n",
    "print(d)\n",
    "d['Bob'] = 99\n",
    "print(d)\n",
    "d['Adam'] = 67\n",
    "print(d)"
   ]
  },
  {
   "cell_type": "code",
   "execution_count": null,
   "metadata": {},
   "outputs": [
    {
     "name": "stdout",
     "output_type": "stream",
     "text": [
      "{'Tom': 95, 'Bob': 99, 'Andy': 85}\n"
     ]
    }
   ],
   "source": [
    "# del\n",
    "del d['Adam']\n",
    "print(d)"
   ]
  },
  {
   "cell_type": "code",
   "execution_count": null,
   "metadata": {},
   "outputs": [
    {
     "name": "stdout",
     "output_type": "stream",
     "text": [
      "Alice's phone is 2341.\n"
     ]
    }
   ],
   "source": [
    "# query dict example\n",
    "people = {\n",
    "    \"Alice\": {\n",
    "        \"phone\": '2341',\n",
    "        \"addr\": \"Foo drive 23\",\n",
    "    },\n",
    "    \"Beth\": {\n",
    "        'phone': '9213',\n",
    "        'addr': 'Bar street 41'\n",
    "    },\n",
    "    'Cecil': {\n",
    "        'phone': '3158',\n",
    "        'addr': 'Baz avenue 90'\n",
    "    }\n",
    "}\n",
    "\n",
    "labels = {\n",
    "    \"phone\": 'phone number',\n",
    "    'addr': 'address'\n",
    "}\n",
    "\n",
    "name = input(\"Name for search:\")\n",
    "\n",
    "p = input(\"Do you want to search phone(p) or address(a)?\")\n",
    "\n",
    "if p == 'p':\n",
    "    key = 'phone'\n",
    "if p == 'a':\n",
    "    key = 'addr'\n",
    "\n",
    "if name in people:\n",
    "    print(\"%s's %s is %s.\" % (name, key, people[name][key]))"
   ]
  },
  {
   "cell_type": "code",
   "execution_count": null,
   "metadata": {},
   "outputs": [
    {
     "name": "stdout",
     "output_type": "stream",
     "text": [
      "Cecil's information is {'phone': '3158', 'addr': 'Baz avenue 90'}\n"
     ]
    }
   ],
   "source": [
    "# format string by using dict\n",
    "people = {\n",
    "    \"Alice\": {\n",
    "        \"phone\": '2341',\n",
    "        \"addr\": \"Foo drive 23\",\n",
    "    },\n",
    "    \"Beth\": {\n",
    "        'phone': '9213',\n",
    "        'addr': 'Bar street 41'\n",
    "    },\n",
    "    'Cecil': {\n",
    "        'phone': '3158',\n",
    "        'addr': 'Baz avenue 90'\n",
    "    }\n",
    "}\n",
    "s = \"Cecil's information is %(Cecil)s\" % people\n",
    "print(s)"
   ]
  },
  {
   "cell_type": "code",
   "execution_count": null,
   "metadata": {},
   "outputs": [
    {
     "name": "stdout",
     "output_type": "stream",
     "text": [
      "{'Tom': 95, 'Bob': 75, 'Andy': 85}\n",
      "{}\n"
     ]
    }
   ],
   "source": [
    "# clear\n",
    "d = {'Tom': 95, 'Bob': 75, 'Andy': 85}\n",
    "print(d)\n",
    "d.clear()\n",
    "print(d)\n"
   ]
  },
  {
   "cell_type": "code",
   "execution_count": null,
   "metadata": {},
   "outputs": [
    {
     "name": "stdout",
     "output_type": "stream",
     "text": [
      "{'name': 'admin', 'skills': ['Python', 'Java', 'Go']}\n"
     ]
    }
   ],
   "source": [
    "# copy\n",
    "x = {'name': \"admin\", \"skills\": ['Python', 'Java'],}\n",
    "y = x.copy()\n",
    "x['name'] = 'Tom'\n",
    "x['skills'].append('Go')\n",
    "print(y)"
   ]
  },
  {
   "cell_type": "code",
   "execution_count": null,
   "metadata": {},
   "outputs": [
    {
     "name": "stdout",
     "output_type": "stream",
     "text": [
      "{'name': 'admin', 'skills': ['Python', 'Java']}\n"
     ]
    }
   ],
   "source": [
    "# deep copy\n",
    "from copy import deepcopy\n",
    "x = {'name': \"admin\", \"skills\": ['Python', 'Java'],}\n",
    "y = deepcopy(x)\n",
    "x['name'] = 'Tom'\n",
    "x['skills'].append('Go')\n",
    "print(y)\n"
   ]
  },
  {
   "cell_type": "code",
   "execution_count": null,
   "metadata": {},
   "outputs": [
    {
     "name": "stdout",
     "output_type": "stream",
     "text": [
      "{'name': None, 'age': None}\n",
      "{'name': '(UNKNOWN)', 'age': '(UNKNOWN)'}\n"
     ]
    }
   ],
   "source": [
    "# fromkeys\n",
    "d = dict.fromkeys(['name', 'age'])\n",
    "print(d)\n",
    "d = dict.fromkeys(['name', 'age'], '(UNKNOWN)')\n",
    "print(d)"
   ]
  },
  {
   "cell_type": "code",
   "execution_count": 1,
   "metadata": {},
   "outputs": [
    {
     "name": "stdout",
     "output_type": "stream",
     "text": [
      "None\n",
      "-1\n"
     ]
    }
   ],
   "source": [
    "# get\n",
    "d = dict.fromkeys(['name', 'age'])\n",
    "print(d.get('Thomas'))\n",
    "# get [default]\n",
    "print(d.get('Thomas', -1))\n",
    "\n"
   ]
  },
  {
   "cell_type": "code",
   "execution_count": null,
   "metadata": {},
   "outputs": [
    {
     "name": "stdout",
     "output_type": "stream",
     "text": [
      "dict_items([('name', None), ('age', None)])\n"
     ]
    }
   ],
   "source": [
    "# items\n",
    "d = dict.fromkeys(['name', 'age'])\n",
    "print(d.items())\n"
   ]
  },
  {
   "cell_type": "code",
   "execution_count": null,
   "metadata": {},
   "outputs": [
    {
     "name": "stdout",
     "output_type": "stream",
     "text": [
      "dict_keys(['name', 'age'])\n"
     ]
    }
   ],
   "source": [
    "# keys\n",
    "d = dict.fromkeys(['name', 'age'])\n",
    "print(d.keys())"
   ]
  },
  {
   "cell_type": "code",
   "execution_count": null,
   "metadata": {},
   "outputs": [
    {
     "name": "stdout",
     "output_type": "stream",
     "text": [
      "dict_values([None, None])\n"
     ]
    }
   ],
   "source": [
    "# values\n",
    "d = dict.fromkeys(['name', 'age'])\n",
    "print(d.values())"
   ]
  },
  {
   "cell_type": "code",
   "execution_count": null,
   "metadata": {},
   "outputs": [
    {
     "name": "stdout",
     "output_type": "stream",
     "text": [
      "{'name': None, 'sex': None, 'edu': None} None\n"
     ]
    }
   ],
   "source": [
    "# pop(), pop a value of a key\n",
    "d = dict.fromkeys(['name', 'age', 'sex', 'edu'])\n",
    "v = d.pop('age')\n",
    "print(d, v)"
   ]
  },
  {
   "cell_type": "code",
   "execution_count": null,
   "metadata": {},
   "outputs": [
    {
     "name": "stdout",
     "output_type": "stream",
     "text": [
      "{'name': None, 'age': None, 'sex': None} ('edu', None)\n"
     ]
    }
   ],
   "source": [
    "# popitem(), pop last item\n",
    "d = dict.fromkeys(['name', 'age', 'sex', 'edu'])\n",
    "i = d.popitem()\n",
    "print(d, i)"
   ]
  },
  {
   "cell_type": "code",
   "execution_count": 2,
   "metadata": {},
   "outputs": [
    {
     "name": "stdout",
     "output_type": "stream",
     "text": [
      "{'name': 'Tom'} Tom\n",
      "{'name': 'Adam'} Adam\n"
     ]
    }
   ],
   "source": [
    "# setdefault()\n",
    "d = {}\n",
    "i = d.setdefault('name', \"Tom\")\n",
    "print(d, i)\n",
    "\n",
    "\n",
    "d = {'name': 'Adam'}\n",
    "i = d.setdefault('name', \"Tom\")\n",
    "print(d, i)"
   ]
  },
  {
   "cell_type": "code",
   "execution_count": null,
   "metadata": {},
   "outputs": [
    {
     "name": "stdout",
     "output_type": "stream",
     "text": [
      "{'name': 'Tom', 'age': 22, 'job': 'Engineer'}\n"
     ]
    }
   ],
   "source": [
    "# update\n",
    "\n",
    "d = {'name': 'Tom', 'age': 21}\n",
    "new = {'age':22, 'job': 'Engineer'}\n",
    "d.update(new)\n",
    "print(d)"
   ]
  },
  {
   "cell_type": "code",
   "execution_count": null,
   "metadata": {},
   "outputs": [
    {
     "name": "stdout",
     "output_type": "stream",
     "text": [
      "Bob's phone is NOT FIND.\n"
     ]
    }
   ],
   "source": [
    "# query dict example\n",
    "people = {\n",
    "    \"Alice\": {\n",
    "        \"phone\": '2341',\n",
    "        \"addr\": \"Foo drive 23\",\n",
    "    },\n",
    "    \"Beth\": {\n",
    "        'phone': '9213',\n",
    "        'addr': 'Bar street 41'\n",
    "    },\n",
    "    'Cecil': {\n",
    "        'phone': '3158',\n",
    "        'addr': 'Baz avenue 90'\n",
    "    }\n",
    "}\n",
    "\n",
    "labels = {\n",
    "    \"phone\": 'phone number',\n",
    "    'addr': 'address'\n",
    "}\n",
    "\n",
    "name = input(\"Name for search:\")\n",
    "\n",
    "p = input(\"Do you want to search phone(p) or address(a)?\")\n",
    "\n",
    "if p == 'p':\n",
    "    key = 'phone'\n",
    "if p == 'a':\n",
    "    key = 'addr'\n",
    "\n",
    "print(\"%s's %s is %s.\" % (name, key, people.get(name, {}).get(key, 'NOT FIND')))"
   ]
  }
 ],
 "metadata": {
  "kernelspec": {
   "display_name": "Python 3.10.6 ('base')",
   "language": "python",
   "name": "python3"
  },
  "language_info": {
   "codemirror_mode": {
    "name": "ipython",
    "version": 3
   },
   "file_extension": ".py",
   "mimetype": "text/x-python",
   "name": "python",
   "nbconvert_exporter": "python",
   "pygments_lexer": "ipython3",
   "version": "3.10.6 | packaged by conda-forge | (main, Aug 22 2022, 20:38:29) [Clang 13.0.1 ]"
  },
  "orig_nbformat": 4,
  "vscode": {
   "interpreter": {
    "hash": "c6e4e9f98eb68ad3b7c296f83d20e6de614cb42e90992a65aa266555a3137d0d"
   }
  }
 },
 "nbformat": 4,
 "nbformat_minor": 2
}
